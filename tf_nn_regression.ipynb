{
 "cells": [
  {
   "cell_type": "code",
   "execution_count": 1,
   "metadata": {},
   "outputs": [],
   "source": [
    "import tensorflow as tf\n",
    "import numpy as np\n",
    "import matplotlib.pyplot as plt"
   ]
  },
  {
   "cell_type": "code",
   "execution_count": 2,
   "metadata": {},
   "outputs": [
    {
     "data": {
      "text/plain": [
       "<matplotlib.collections.PathCollection at 0x1951382ed10>"
      ]
     },
     "execution_count": 2,
     "metadata": {},
     "output_type": "execute_result"
    },
    {
     "data": {
      "image/png": "[encoded data removed]",
      "text/plain": [
       "<Figure size 640x480 with 1 Axes>"
      ]
     },
     "metadata": {},
     "output_type": "display_data"
    }
   ],
   "source": [
    "X = np.array([-7.0, -4.0, -1.0, 2.0, 5.0, 8.0, 11.0, 14.0])\n",
    "y = np.array([3.0, 6.0, 9.0, 12.0, 15.0, 18.0, 21.0, 24.0])\n",
    "\n",
    "plt.scatter(X, y)"
   ]
  },
  {
   "cell_type": "code",
   "execution_count": 3,
   "metadata": {},
   "outputs": [],
   "source": [
    "X = tf.constant(X)\n",
    "y = tf.constant(y)"
   ]
  },
  {
   "cell_type": "code",
   "execution_count": 4,
   "metadata": {},
   "outputs": [
    {
     "data": {
      "text/plain": [
       "(TensorShape([]), TensorShape([]))"
      ]
     },
     "execution_count": 4,
     "metadata": {},
     "output_type": "execute_result"
    }
   ],
   "source": [
    "input_shape = X[0].shape\n",
    "output_shape = y[0].shape\n",
    "\n",
    "input_shape, output_shape"
   ]
  },
  {
   "cell_type": "code",
   "execution_count": 5,
   "metadata": {},
   "outputs": [
    {
     "data": {
      "text/plain": [
       "(<tf.Tensor: shape=(), dtype=float64, numpy=-7.0>,\n",
       " <tf.Tensor: shape=(), dtype=float64, numpy=3.0>)"
      ]
     },
     "execution_count": 5,
     "metadata": {},
     "output_type": "execute_result"
    }
   ],
   "source": [
    "X[0], y[0] # --> input_shape, output_shape"
   ]
  },
  {
   "attachments": {},
   "cell_type": "markdown",
   "metadata": {},
   "source": [
    "## Make a model"
   ]
  },
  {
   "cell_type": "code",
   "execution_count": 6,
   "metadata": {},
   "outputs": [
    {
     "name": "stdout",
     "output_type": "stream",
     "text": [
      "Epoch 1/5\n",
      "1/1 [==============================] - 0s 171ms/step - loss: 13.6967 - mae: 13.6967\n",
      "Epoch 2/5\n",
      "1/1 [==============================] - 0s 3ms/step - loss: 13.5642 - mae: 13.5642\n",
      "Epoch 3/5\n",
      "1/1 [==============================] - 0s 2ms/step - loss: 13.4317 - mae: 13.4317\n",
      "Epoch 4/5\n",
      "1/1 [==============================] - 0s 3ms/step - loss: 13.2992 - mae: 13.2992\n",
      "Epoch 5/5\n",
      "1/1 [==============================] - 0s 2ms/step - loss: 13.1667 - mae: 13.1667\n"
     ]
    },
    {
     "data": {
      "text/plain": [
       "<keras.callbacks.History at 0x195135c7a50>"
      ]
     },
     "execution_count": 6,
     "metadata": {},
     "output_type": "execute_result"
    }
   ],
   "source": [
    "tf.random.set_seed(42)\n",
    "\n",
    "model = tf.keras.Sequential([\n",
    "    tf.keras.layers.Dense(1)\n",
    "])\n",
    "\n",
    "model.compile(loss=tf.keras.losses.mae,\n",
    "                optimizer=tf.keras.optimizers.SGD(),\n",
    "                metrics=[\"mae\"])\n",
    "\n",
    "# Fit the model\n",
    "model.fit(tf.expand_dims(X, axis=-1), y, epochs=5)"
   ]
  },
  {
   "cell_type": "code",
   "execution_count": 7,
   "metadata": {},
   "outputs": [
    {
     "name": "stdout",
     "output_type": "stream",
     "text": [
      "1/1 [==============================] - 0s 50ms/step\n"
     ]
    },
    {
     "data": {
      "text/plain": [
       "array([[2.069571]], dtype=float32)"
      ]
     },
     "execution_count": 7,
     "metadata": {},
     "output_type": "execute_result"
    }
   ],
   "source": [
    "# Make a Prediction\n",
    "\n",
    "model.predict([17.0])"
   ]
  },
  {
   "attachments": {},
   "cell_type": "markdown",
   "metadata": {},
   "source": [
    "## Improving a Model"
   ]
  },
  {
   "attachments": {},
   "cell_type": "markdown",
   "metadata": {},
   "source": [
    "1. longer trains"
   ]
  },
  {
   "cell_type": "code",
   "execution_count": 8,
   "metadata": {},
   "outputs": [
    {
     "name": "stdout",
     "output_type": "stream",
     "text": [
      "Epoch 1/100\n",
      "1/1 [==============================] - 0s 148ms/step - loss: 14.2718 - mae: 14.2718\n",
      "Epoch 2/100\n",
      "1/1 [==============================] - 0s 3ms/step - loss: 14.1393 - mae: 14.1393\n",
      "Epoch 3/100\n",
      "1/1 [==============================] - 0s 3ms/step - loss: 14.0068 - mae: 14.0068\n",
      "Epoch 4/100\n",
      "1/1 [==============================] - 0s 2ms/step - loss: 13.8743 - mae: 13.8743\n",
      "Epoch 5/100\n",
      "1/1 [==============================] - 0s 2ms/step - loss: 13.7418 - mae: 13.7418\n",
      "Epoch 6/100\n",
      "1/1 [==============================] - 0s 3ms/step - loss: 13.6093 - mae: 13.6093\n",
      "Epoch 7/100\n",
      "1/1 [==============================] - 0s 4ms/step - loss: 13.4768 - mae: 13.4768\n",
      "Epoch 8/100\n",
      "1/1 [==============================] - 0s 2ms/step - loss: 13.3443 - mae: 13.3443\n",
      "Epoch 9/100\n",
      "1/1 [==============================] - 0s 3ms/step - loss: 13.2118 - mae: 13.2118\n",
      "Epoch 10/100\n",
      "1/1 [==============================] - 0s 2ms/step - loss: 13.0793 - mae: 13.0793\n",
      "Epoch 11/100\n",
      "1/1 [==============================] - 0s 3ms/step - loss: 12.9468 - mae: 12.9468\n",
      "Epoch 12/100\n",
      "1/1 [==============================] - 0s 999us/step - loss: 12.8143 - mae: 12.8143\n",
      "Epoch 13/100\n",
      "1/1 [==============================] - 0s 3ms/step - loss: 12.6818 - mae: 12.6818\n",
      "Epoch 14/100\n",
      "1/1 [==============================] - 0s 2ms/step - loss: 12.5493 - mae: 12.5493\n",
      "Epoch 15/100\n",
      "1/1 [==============================] - 0s 3ms/step - loss: 12.4168 - mae: 12.4168\n",
      "Epoch 16/100\n",
      "1/1 [==============================] - 0s 3ms/step - loss: 12.2843 - mae: 12.2843\n",
      "Epoch 17/100\n",
      "1/1 [==============================] - 0s 2ms/step - loss: 12.1518 - mae: 12.1518\n",
      "Epoch 18/100\n",
      "1/1 [==============================] - 0s 2ms/step - loss: 12.0193 - mae: 12.0193\n",
      "Epoch 19/100\n",
      "1/1 [==============================] - 0s 2ms/step - loss: 11.8868 - mae: 11.8868\n",
      "Epoch 20/100\n",
      "1/1 [==============================] - 0s 3ms/step - loss: 11.7543 - mae: 11.7543\n",
      "Epoch 21/100\n",
      "1/1 [==============================] - 0s 2ms/step - loss: 11.6218 - mae: 11.6218\n",
      "Epoch 22/100\n",
      "1/1 [==============================] - 0s 3ms/step - loss: 11.4893 - mae: 11.4893\n",
      "Epoch 23/100\n",
      "1/1 [==============================] - 0s 2ms/step - loss: 11.3568 - mae: 11.3568\n",
      "Epoch 24/100\n",
      "1/1 [==============================] - 0s 2ms/step - loss: 11.2243 - mae: 11.2243\n",
      "Epoch 25/100\n",
      "1/1 [==============================] - 0s 2ms/step - loss: 11.0918 - mae: 11.0918\n",
      "Epoch 26/100\n",
      "1/1 [==============================] - 0s 3ms/step - loss: 10.9593 - mae: 10.9593\n",
      "Epoch 27/100\n",
      "1/1 [==============================] - 0s 2ms/step - loss: 10.8268 - mae: 10.8268\n",
      "Epoch 28/100\n",
      "1/1 [==============================] - 0s 2ms/step - loss: 10.6943 - mae: 10.6943\n",
      "Epoch 29/100\n",
      "1/1 [==============================] - 0s 2ms/step - loss: 10.5618 - mae: 10.5618\n",
      "Epoch 30/100\n",
      "1/1 [==============================] - 0s 3ms/step - loss: 10.4293 - mae: 10.4293\n",
      "Epoch 31/100\n",
      "1/1 [==============================] - 0s 3ms/step - loss: 10.2968 - mae: 10.2968\n",
      "Epoch 32/100\n",
      "1/1 [==============================] - 0s 3ms/step - loss: 10.1643 - mae: 10.1643\n",
      "Epoch 33/100\n",
      "1/1 [==============================] - 0s 2ms/step - loss: 10.0318 - mae: 10.0318\n",
      "Epoch 34/100\n",
      "1/1 [==============================] - 0s 2ms/step - loss: 9.8993 - mae: 9.8993\n",
      "Epoch 35/100\n",
      "1/1 [==============================] - 0s 2ms/step - loss: 9.7668 - mae: 9.7668\n",
      "Epoch 36/100\n",
      "1/1 [==============================] - 0s 3ms/step - loss: 9.6343 - mae: 9.6343\n",
      "Epoch 37/100\n",
      "1/1 [==============================] - 0s 999us/step - loss: 9.5018 - mae: 9.5018\n",
      "Epoch 38/100\n",
      "1/1 [==============================] - 0s 3ms/step - loss: 9.3693 - mae: 9.3693\n",
      "Epoch 39/100\n",
      "1/1 [==============================] - 0s 2ms/step - loss: 9.2368 - mae: 9.2368\n",
      "Epoch 40/100\n",
      "1/1 [==============================] - 0s 2ms/step - loss: 9.1043 - mae: 9.1043\n",
      "Epoch 41/100\n",
      "1/1 [==============================] - 0s 3ms/step - loss: 8.9718 - mae: 8.9718\n",
      "Epoch 42/100\n",
      "1/1 [==============================] - 0s 2ms/step - loss: 8.8393 - mae: 8.8393\n",
      "Epoch 43/100\n",
      "1/1 [==============================] - 0s 3ms/step - loss: 8.7068 - mae: 8.7068\n",
      "Epoch 44/100\n",
      "1/1 [==============================] - 0s 3ms/step - loss: 8.5743 - mae: 8.5743\n",
      "Epoch 45/100\n",
      "1/1 [==============================] - 0s 2ms/step - loss: 8.4418 - mae: 8.4418\n",
      "Epoch 46/100\n",
      "1/1 [==============================] - 0s 2ms/step - loss: 8.3093 - mae: 8.3093\n",
      "Epoch 47/100\n",
      "1/1 [==============================] - 0s 2ms/step - loss: 8.1768 - mae: 8.1768\n",
      "Epoch 48/100\n",
      "1/1 [==============================] - 0s 2ms/step - loss: 8.0443 - mae: 8.0443\n",
      "Epoch 49/100\n",
      "1/1 [==============================] - 0s 2ms/step - loss: 7.9118 - mae: 7.9118\n",
      "Epoch 50/100\n",
      "1/1 [==============================] - 0s 2ms/step - loss: 7.7793 - mae: 7.7793\n",
      "Epoch 51/100\n",
      "1/1 [==============================] - 0s 2ms/step - loss: 7.6468 - mae: 7.6468\n",
      "Epoch 52/100\n",
      "1/1 [==============================] - 0s 2ms/step - loss: 7.5143 - mae: 7.5143\n",
      "Epoch 53/100\n",
      "1/1 [==============================] - 0s 2ms/step - loss: 7.3818 - mae: 7.3818\n",
      "Epoch 54/100\n",
      "1/1 [==============================] - 0s 2ms/step - loss: 7.2493 - mae: 7.2493\n",
      "Epoch 55/100\n",
      "1/1 [==============================] - 0s 3ms/step - loss: 7.1168 - mae: 7.1168\n",
      "Epoch 56/100\n",
      "1/1 [==============================] - 0s 3ms/step - loss: 7.0875 - mae: 7.0875\n",
      "Epoch 57/100\n",
      "1/1 [==============================] - 0s 2ms/step - loss: 7.0819 - mae: 7.0819\n",
      "Epoch 58/100\n",
      "1/1 [==============================] - 0s 2ms/step - loss: 7.0763 - mae: 7.0763\n",
      "Epoch 59/100\n",
      "1/1 [==============================] - 0s 3ms/step - loss: 7.0706 - mae: 7.0706\n",
      "Epoch 60/100\n",
      "1/1 [==============================] - 0s 2ms/step - loss: 7.0650 - mae: 7.0650\n",
      "Epoch 61/100\n",
      "1/1 [==============================] - 0s 2ms/step - loss: 7.0594 - mae: 7.0594\n",
      "Epoch 62/100\n",
      "1/1 [==============================] - 0s 2ms/step - loss: 7.0538 - mae: 7.0538\n",
      "Epoch 63/100\n",
      "1/1 [==============================] - 0s 3ms/step - loss: 7.0481 - mae: 7.0481\n",
      "Epoch 64/100\n",
      "1/1 [==============================] - 0s 2ms/step - loss: 7.0425 - mae: 7.0425\n",
      "Epoch 65/100\n",
      "1/1 [==============================] - 0s 3ms/step - loss: 7.0369 - mae: 7.0369\n",
      "Epoch 66/100\n",
      "1/1 [==============================] - 0s 2ms/step - loss: 7.0313 - mae: 7.0313\n",
      "Epoch 67/100\n",
      "1/1 [==============================] - 0s 3ms/step - loss: 7.0256 - mae: 7.0256\n",
      "Epoch 68/100\n",
      "1/1 [==============================] - 0s 2ms/step - loss: 7.0200 - mae: 7.0200\n",
      "Epoch 69/100\n",
      "1/1 [==============================] - 0s 2ms/step - loss: 7.0144 - mae: 7.0144\n",
      "Epoch 70/100\n",
      "1/1 [==============================] - 0s 2ms/step - loss: 7.0088 - mae: 7.0088\n",
      "Epoch 71/100\n",
      "1/1 [==============================] - 0s 2ms/step - loss: 7.0031 - mae: 7.0031\n",
      "Epoch 72/100\n",
      "1/1 [==============================] - 0s 3ms/step - loss: 6.9975 - mae: 6.9975\n",
      "Epoch 73/100\n",
      "1/1 [==============================] - 0s 2ms/step - loss: 6.9919 - mae: 6.9919\n",
      "Epoch 74/100\n",
      "1/1 [==============================] - 0s 2ms/step - loss: 6.9863 - mae: 6.9863\n",
      "Epoch 75/100\n",
      "1/1 [==============================] - 0s 3ms/step - loss: 6.9806 - mae: 6.9806\n",
      "Epoch 76/100\n",
      "1/1 [==============================] - 0s 2ms/step - loss: 6.9750 - mae: 6.9750\n",
      "Epoch 77/100\n",
      "1/1 [==============================] - 0s 3ms/step - loss: 6.9694 - mae: 6.9694\n",
      "Epoch 78/100\n",
      "1/1 [==============================] - 0s 3ms/step - loss: 6.9638 - mae: 6.9638\n",
      "Epoch 79/100\n",
      "1/1 [==============================] - 0s 3ms/step - loss: 6.9581 - mae: 6.9581\n",
      "Epoch 80/100\n",
      "1/1 [==============================] - 0s 2ms/step - loss: 6.9525 - mae: 6.9525\n",
      "Epoch 81/100\n",
      "1/1 [==============================] - 0s 3ms/step - loss: 6.9469 - mae: 6.9469\n",
      "Epoch 82/100\n",
      "1/1 [==============================] - 0s 2ms/step - loss: 6.9413 - mae: 6.9413\n",
      "Epoch 83/100\n",
      "1/1 [==============================] - 0s 2ms/step - loss: 6.9356 - mae: 6.9356\n",
      "Epoch 84/100\n",
      "1/1 [==============================] - 0s 3ms/step - loss: 6.9300 - mae: 6.9300\n",
      "Epoch 85/100\n",
      "1/1 [==============================] - 0s 2ms/step - loss: 6.9244 - mae: 6.9244\n",
      "Epoch 86/100\n",
      "1/1 [==============================] - 0s 2ms/step - loss: 6.9188 - mae: 6.9188\n",
      "Epoch 87/100\n",
      "1/1 [==============================] - 0s 2ms/step - loss: 6.9131 - mae: 6.9131\n",
      "Epoch 88/100\n",
      "1/1 [==============================] - 0s 2ms/step - loss: 6.9075 - mae: 6.9075\n",
      "Epoch 89/100\n",
      "1/1 [==============================] - 0s 2ms/step - loss: 6.9019 - mae: 6.9019\n",
      "Epoch 90/100\n",
      "1/1 [==============================] - 0s 3ms/step - loss: 6.8963 - mae: 6.8963\n",
      "Epoch 91/100\n",
      "1/1 [==============================] - 0s 2ms/step - loss: 6.8906 - mae: 6.8906\n",
      "Epoch 92/100\n",
      "1/1 [==============================] - 0s 2ms/step - loss: 6.8850 - mae: 6.8850\n",
      "Epoch 93/100\n",
      "1/1 [==============================] - 0s 2ms/step - loss: 6.8794 - mae: 6.8794\n",
      "Epoch 94/100\n",
      "1/1 [==============================] - 0s 2ms/step - loss: 6.8738 - mae: 6.8738\n",
      "Epoch 95/100\n",
      "1/1 [==============================] - 0s 2ms/step - loss: 6.8681 - mae: 6.8681\n",
      "Epoch 96/100\n",
      "1/1 [==============================] - 0s 2ms/step - loss: 6.8625 - mae: 6.8625\n",
      "Epoch 97/100\n",
      "1/1 [==============================] - 0s 3ms/step - loss: 6.8569 - mae: 6.8569\n",
      "Epoch 98/100\n",
      "1/1 [==============================] - 0s 2ms/step - loss: 6.8513 - mae: 6.8513\n",
      "Epoch 99/100\n",
      "1/1 [==============================] - 0s 2ms/step - loss: 6.8456 - mae: 6.8456\n",
      "Epoch 100/100\n",
      "1/1 [==============================] - 0s 2ms/step - loss: 6.8400 - mae: 6.8400\n"
     ]
    },
    {
     "data": {
      "text/plain": [
       "<keras.callbacks.History at 0x19515b87550>"
      ]
     },
     "execution_count": 8,
     "metadata": {},
     "output_type": "execute_result"
    }
   ],
   "source": [
    "tf.random.set_seed(42)\n",
    "\n",
    "model = tf.keras.Sequential([\n",
    "    tf.keras.layers.Dense(1)\n",
    "])\n",
    "\n",
    "model.compile(loss=tf.keras.losses.mae,\n",
    "                optimizer=tf.keras.optimizers.SGD(),\n",
    "                metrics=[\"mae\"])\n",
    "\n",
    "# Fit the model\n",
    "model.fit(tf.expand_dims(X, axis=-1), y, epochs=100)"
   ]
  },
  {
   "cell_type": "code",
   "execution_count": 9,
   "metadata": {},
   "outputs": [
    {
     "name": "stdout",
     "output_type": "stream",
     "text": [
      "1/1 [==============================] - 0s 37ms/step\n"
     ]
    },
    {
     "data": {
      "text/plain": [
       "array([[29.863878]], dtype=float32)"
      ]
     },
     "execution_count": 9,
     "metadata": {},
     "output_type": "execute_result"
    }
   ],
   "source": [
    "model.predict([17.0])"
   ]
  },
  {
   "attachments": {},
   "cell_type": "markdown",
   "metadata": {},
   "source": [
    "is better than first predictions"
   ]
  },
  {
   "attachments": {},
   "cell_type": "markdown",
   "metadata": {},
   "source": [
    "#### Bigger dataset"
   ]
  },
  {
   "cell_type": "code",
   "execution_count": 10,
   "metadata": {},
   "outputs": [
    {
     "data": {
      "text/plain": [
       "array([-100,  -96,  -92,  -88,  -84,  -80,  -76,  -72,  -68,  -64,  -60,\n",
       "        -56,  -52,  -48,  -44,  -40,  -36,  -32,  -28,  -24,  -20,  -16,\n",
       "        -12,   -8,   -4,    0,    4,    8,   12,   16,   20,   24,   28,\n",
       "         32,   36,   40,   44,   48,   52,   56,   60,   64,   68,   72,\n",
       "         76,   80,   84,   88,   92,   96])"
      ]
     },
     "execution_count": 10,
     "metadata": {},
     "output_type": "execute_result"
    }
   ],
   "source": [
    "X = np.arange(-100, 100, 4)\n",
    "X"
   ]
  },
  {
   "cell_type": "code",
   "execution_count": 11,
   "metadata": {},
   "outputs": [
    {
     "data": {
      "text/plain": [
       "array([-90, -86, -82, -78, -74, -70, -66, -62, -58, -54, -50, -46, -42,\n",
       "       -38, -34, -30, -26, -22, -18, -14, -10,  -6,  -2,   2,   6,  10,\n",
       "        14,  18,  22,  26,  30,  34,  38,  42,  46,  50,  54,  58,  62,\n",
       "        66,  70,  74,  78,  82,  86,  90,  94,  98, 102, 106])"
      ]
     },
     "execution_count": 11,
     "metadata": {},
     "output_type": "execute_result"
    }
   ],
   "source": [
    "y = np.arange(-90, 110, 4) # or y = X + 10\n",
    "y "
   ]
  },
  {
   "cell_type": "code",
   "execution_count": 12,
   "metadata": {},
   "outputs": [
    {
     "data": {
      "text/plain": [
       "(50, 50)"
      ]
     },
     "execution_count": 12,
     "metadata": {},
     "output_type": "execute_result"
    }
   ],
   "source": [
    "len(X), len(y)"
   ]
  },
  {
   "cell_type": "code",
   "execution_count": 13,
   "metadata": {},
   "outputs": [
    {
     "data": {
      "text/plain": [
       "(40, 10)"
      ]
     },
     "execution_count": 13,
     "metadata": {},
     "output_type": "execute_result"
    }
   ],
   "source": [
    "X_train = X[:40] # first 40 examples (80% of data)\n",
    "y_train = y[:40]\n",
    "\n",
    "X_test = X[40:] # last 10 examples (20% of data)\n",
    "y_test = y[40:] \n",
    "\n",
    "len(X_train), len(X_test)"
   ]
  },
  {
   "attachments": {},
   "cell_type": "markdown",
   "metadata": {},
   "source": [
    "### Visualizing the Data"
   ]
  },
  {
   "cell_type": "code",
   "execution_count": 14,
   "metadata": {},
   "outputs": [
    {
     "data": {
      "text/plain": [
       "<matplotlib.legend.Legend at 0x19515b8d290>"
      ]
     },
     "execution_count": 14,
     "metadata": {},
     "output_type": "execute_result"
    },
    {
     "data": {
      "image/png": "[encoded data removed]",
      "text/plain": [
       "<Figure size 640x480 with 1 Axes>"
      ]
     },
     "metadata": {},
     "output_type": "display_data"
    }
   ],
   "source": [
    "plt.Figure(figsize=(10, 7))\n",
    "plt.scatter(X_train, y_train, c=\"b\", label=\"Training data\")\n",
    "plt.scatter(X_test, y_test, c=\"g\", label=\"Testing data\")\n",
    "plt.legend()"
   ]
  },
  {
   "cell_type": "code",
   "execution_count": 15,
   "metadata": {},
   "outputs": [],
   "source": [
    "tf.random.set_seed(42)\n",
    "\n",
    "model = tf.keras.Sequential([\n",
    "    tf.keras.layers.Dense(1)\n",
    "])\n",
    "\n",
    "model.compile(loss=tf.keras.losses.mae,\n",
    "                optimizer=tf.keras.optimizers.SGD(),\n",
    "                metrics=[\"mae\"])\n"
   ]
  },
  {
   "attachments": {},
   "cell_type": "markdown",
   "metadata": {},
   "source": [
    "### Visualizing the Model"
   ]
  },
  {
   "cell_type": "code",
   "execution_count": 16,
   "metadata": {},
   "outputs": [
    {
     "ename": "ValueError",
     "evalue": "This model has not yet been built. Build the model first by calling `build()` or by calling the model on a batch of data.",
     "output_type": "error",
     "traceback": [
      "\u001b[1;31m---------------------------------------------------------------------------\u001b[0m",
      "\u001b[1;31mValueError\u001b[0m                                Traceback (most recent call last)",
      "Cell \u001b[1;32mIn[16], line 2\u001b[0m\n\u001b[0;32m      1\u001b[0m \u001b[39m# Doesn't work ( model not fit/built)\u001b[39;00m\n\u001b[1;32m----> 2\u001b[0m model\u001b[39m.\u001b[39;49msummary()\n",
      "File \u001b[1;32mc:\\Users\\Furkan\\AppData\\Local\\Programs\\Python\\Python311\\Lib\\site-packages\\keras\\engine\\training.py:3229\u001b[0m, in \u001b[0;36mModel.summary\u001b[1;34m(self, line_length, positions, print_fn, expand_nested, show_trainable, layer_range)\u001b[0m\n\u001b[0;32m   3198\u001b[0m \u001b[39m\u001b[39m\u001b[39m\"\"\"Prints a string summary of the network.\u001b[39;00m\n\u001b[0;32m   3199\u001b[0m \n\u001b[0;32m   3200\u001b[0m \u001b[39mArgs:\u001b[39;00m\n\u001b[1;32m   (...)\u001b[0m\n\u001b[0;32m   3226\u001b[0m \u001b[39m    ValueError: if `summary()` is called before the model is built.\u001b[39;00m\n\u001b[0;32m   3227\u001b[0m \u001b[39m\"\"\"\u001b[39;00m\n\u001b[0;32m   3228\u001b[0m \u001b[39mif\u001b[39;00m \u001b[39mnot\u001b[39;00m \u001b[39mself\u001b[39m\u001b[39m.\u001b[39mbuilt:\n\u001b[1;32m-> 3229\u001b[0m     \u001b[39mraise\u001b[39;00m \u001b[39mValueError\u001b[39;00m(\n\u001b[0;32m   3230\u001b[0m         \u001b[39m\"\u001b[39m\u001b[39mThis model has not yet been built. \u001b[39m\u001b[39m\"\u001b[39m\n\u001b[0;32m   3231\u001b[0m         \u001b[39m\"\u001b[39m\u001b[39mBuild the model first by calling `build()` or by calling \u001b[39m\u001b[39m\"\u001b[39m\n\u001b[0;32m   3232\u001b[0m         \u001b[39m\"\u001b[39m\u001b[39mthe model on a batch of data.\u001b[39m\u001b[39m\"\u001b[39m\n\u001b[0;32m   3233\u001b[0m     )\n\u001b[0;32m   3234\u001b[0m layer_utils\u001b[39m.\u001b[39mprint_summary(\n\u001b[0;32m   3235\u001b[0m     \u001b[39mself\u001b[39m,\n\u001b[0;32m   3236\u001b[0m     line_length\u001b[39m=\u001b[39mline_length,\n\u001b[1;32m   (...)\u001b[0m\n\u001b[0;32m   3241\u001b[0m     layer_range\u001b[39m=\u001b[39mlayer_range,\n\u001b[0;32m   3242\u001b[0m )\n",
      "\u001b[1;31mValueError\u001b[0m: This model has not yet been built. Build the model first by calling `build()` or by calling the model on a batch of data."
     ]
    }
   ],
   "source": [
    "# Doesn't work ( model not fit/built)\n",
    "model.summary()"
   ]
  },
  {
   "cell_type": "code",
   "execution_count": 17,
   "metadata": {},
   "outputs": [],
   "source": [
    "tf.random.set_seed(42)\n",
    "\n",
    "model = tf.keras.Sequential([\n",
    "    tf.keras.layers.Dense(1, input_shape=[1])\n",
    "])\n",
    "\n",
    "model.compile(loss=tf.keras.losses.mae,\n",
    "                optimizer=tf.keras.optimizers.SGD(),\n",
    "                metrics=[\"mae\"])\n",
    "\n"
   ]
  },
  {
   "cell_type": "code",
   "execution_count": 18,
   "metadata": {},
   "outputs": [
    {
     "name": "stdout",
     "output_type": "stream",
     "text": [
      "Model: \"sequential_3\"\n",
      "_________________________________________________________________\n",
      " Layer (type)                Output Shape              Param #   \n",
      "=================================================================\n",
      " dense_3 (Dense)             (None, 1)                 2         \n",
      "                                                                 \n",
      "=================================================================\n",
      "Total params: 2\n",
      "Trainable params: 2\n",
      "Non-trainable params: 0\n",
      "_________________________________________________________________\n"
     ]
    }
   ],
   "source": [
    "model.summary()"
   ]
  },
  {
   "attachments": {},
   "cell_type": "markdown",
   "metadata": {},
   "source": [
    "- **Total Params** - total number of parameters in the model\n",
    "- **Trainable parameters** - there are the parameter(patterns) the model can update as it trains\n",
    "- **Non-trainable parameters** - these parameter aren't updated during (this is typical when you bring in the already learned patterns form other models during transfer learning)"
   ]
  },
  {
   "cell_type": "code",
   "execution_count": 19,
   "metadata": {},
   "outputs": [
    {
     "data": {
      "text/plain": [
       "<keras.callbacks.History at 0x19516bed810>"
      ]
     },
     "execution_count": 19,
     "metadata": {},
     "output_type": "execute_result"
    }
   ],
   "source": [
    "model.fit(X_train, y_train, epochs=100, verbose=0)"
   ]
  },
  {
   "cell_type": "code",
   "execution_count": 20,
   "metadata": {},
   "outputs": [
    {
     "name": "stdout",
     "output_type": "stream",
     "text": [
      "Model: \"sequential_3\"\n",
      "_________________________________________________________________\n",
      " Layer (type)                Output Shape              Param #   \n",
      "=================================================================\n",
      " dense_3 (Dense)             (None, 1)                 2         \n",
      "                                                                 \n",
      "=================================================================\n",
      "Total params: 2\n",
      "Trainable params: 2\n",
      "Non-trainable params: 0\n",
      "_________________________________________________________________\n"
     ]
    }
   ],
   "source": [
    "model.summary()"
   ]
  },
  {
   "attachments": {},
   "cell_type": "markdown",
   "metadata": {},
   "source": [
    "### Visualizing the predictions"
   ]
  },
  {
   "cell_type": "code",
   "execution_count": 22,
   "metadata": {},
   "outputs": [
    {
     "name": "stdout",
     "output_type": "stream",
     "text": [
      "1/1 [==============================] - 0s 31ms/step\n"
     ]
    },
    {
     "data": {
      "text/plain": [
       "array([[44.625885],\n",
       "       [47.512566],\n",
       "       [50.399254],\n",
       "       [53.285934],\n",
       "       [56.172623],\n",
       "       [59.059303],\n",
       "       [61.945984],\n",
       "       [64.83267 ],\n",
       "       [67.71935 ],\n",
       "       [70.60603 ]], dtype=float32)"
      ]
     },
     "execution_count": 22,
     "metadata": {},
     "output_type": "execute_result"
    }
   ],
   "source": [
    "y_preds = model.predict(X_test)\n",
    "\n",
    "y_preds"
   ]
  },
  {
   "cell_type": "code",
   "execution_count": 23,
   "metadata": {},
   "outputs": [],
   "source": [
    "def plot_predictions(train_data=X_train, \n",
    "                     train_labels=y_train, \n",
    "                     test_data=X_test, \n",
    "                     test_labels=y_test, \n",
    "                     predictions=y_preds):\n",
    "  \"\"\"\n",
    "  Plots training data, test data and compares predictions.\n",
    "  \"\"\"\n",
    "  plt.figure(figsize=(10, 7))\n",
    "  # Plot training data in blue\n",
    "  plt.scatter(train_data, train_labels, c=\"b\", label=\"Training data\")\n",
    "  # Plot test data in green\n",
    "  plt.scatter(test_data, test_labels, c=\"g\", label=\"Testing data\")\n",
    "  # Plot the predictions in red (predictions were made on the test data)\n",
    "  plt.scatter(test_data, predictions, c=\"r\", label=\"Predictions\")\n",
    "  # Show the legend\n",
    "  plt.legend();"
   ]
  },
  {
   "cell_type": "code",
   "execution_count": 24,
   "metadata": {},
   "outputs": [
    {
     "data": {
      "image/png": "[encoded data removed]",
      "text/plain": [
       "<Figure size 1000x700 with 1 Axes>"
      ]
     },
     "metadata": {},
     "output_type": "display_data"
    }
   ],
   "source": [
    "plot_predictions(train_data=X_train,\n",
    "                 train_labels=y_train,\n",
    "                 test_data=X_test,\n",
    "                 test_labels=y_test,\n",
    "                 predictions=y_preds)"
   ]
  },
  {
   "attachments": {},
   "cell_type": "markdown",
   "metadata": {},
   "source": [
    "### Evaluating predictions"
   ]
  },
  {
   "cell_type": "code",
   "execution_count": 25,
   "metadata": {},
   "outputs": [
    {
     "name": "stdout",
     "output_type": "stream",
     "text": [
      "1/1 [==============================] - 0s 66ms/step - loss: 30.3840 - mae: 30.3840\n"
     ]
    },
    {
     "data": {
      "text/plain": [
       "[30.3840389251709, 30.3840389251709]"
      ]
     },
     "execution_count": 25,
     "metadata": {},
     "output_type": "execute_result"
    }
   ],
   "source": [
    "model.evaluate(X_test, y_test)"
   ]
  },
  {
   "cell_type": "code",
   "execution_count": 26,
   "metadata": {},
   "outputs": [
    {
     "data": {
      "text/plain": [
       "<tf.Tensor: shape=(10,), dtype=float32, numpy=\n",
       "array([43.374115, 40.487434, 37.600746, 34.714066, 31.827377, 28.940699,\n",
       "       26.054016, 23.167328, 20.280647, 17.515173], dtype=float32)>"
      ]
     },
     "execution_count": 26,
     "metadata": {},
     "output_type": "execute_result"
    }
   ],
   "source": [
    "mae = tf.metrics.mean_absolute_error(y_true=y_test,y_pred=y_preds)\n",
    "\n",
    "mae"
   ]
  },
  {
   "cell_type": "code",
   "execution_count": 27,
   "metadata": {},
   "outputs": [
    {
     "data": {
      "text/plain": [
       "(array([ 70,  74,  78,  82,  86,  90,  94,  98, 102, 106]),\n",
       " array([[44.625885],\n",
       "        [47.512566],\n",
       "        [50.399254],\n",
       "        [53.285934],\n",
       "        [56.172623],\n",
       "        [59.059303],\n",
       "        [61.945984],\n",
       "        [64.83267 ],\n",
       "        [67.71935 ],\n",
       "        [70.60603 ]], dtype=float32))"
      ]
     },
     "execution_count": 27,
     "metadata": {},
     "output_type": "execute_result"
    }
   ],
   "source": [
    "y_test, y_preds"
   ]
  },
  {
   "cell_type": "code",
   "execution_count": 28,
   "metadata": {},
   "outputs": [
    {
     "data": {
      "text/plain": [
       "((10,), (10, 1))"
      ]
     },
     "execution_count": 28,
     "metadata": {},
     "output_type": "execute_result"
    }
   ],
   "source": [
    "y_test.shape, y_preds.shape"
   ]
  },
  {
   "cell_type": "code",
   "execution_count": 29,
   "metadata": {},
   "outputs": [
    {
     "data": {
      "text/plain": [
       "(10,)"
      ]
     },
     "execution_count": 29,
     "metadata": {},
     "output_type": "execute_result"
    }
   ],
   "source": [
    "# Shape after squeeze()\n",
    "y_preds.squeeze().shape"
   ]
  },
  {
   "cell_type": "code",
   "execution_count": 30,
   "metadata": {},
   "outputs": [
    {
     "data": {
      "text/plain": [
       "(array([ 70,  74,  78,  82,  86,  90,  94,  98, 102, 106]),\n",
       " array([44.625885, 47.512566, 50.399254, 53.285934, 56.172623, 59.059303,\n",
       "        61.945984, 64.83267 , 67.71935 , 70.60603 ], dtype=float32))"
      ]
     },
     "execution_count": 30,
     "metadata": {},
     "output_type": "execute_result"
    }
   ],
   "source": [
    "# look like\n",
    "y_test, y_preds.squeeze()"
   ]
  },
  {
   "cell_type": "code",
   "execution_count": 31,
   "metadata": {},
   "outputs": [
    {
     "data": {
      "text/plain": [
       "<tf.Tensor: shape=(), dtype=float32, numpy=30.384039>"
      ]
     },
     "execution_count": 31,
     "metadata": {},
     "output_type": "execute_result"
    }
   ],
   "source": [
    "# Calcuate the MAE\n",
    "mae = tf.metrics.mean_absolute_error(y_true=y_test, \n",
    "                                     y_pred=y_preds.squeeze()) # use squeeze() to make same shape\n",
    "mae"
   ]
  },
  {
   "cell_type": "code",
   "execution_count": 32,
   "metadata": {},
   "outputs": [
    {
     "data": {
      "text/plain": [
       "<tf.Tensor: shape=(), dtype=float32, numpy=933.4154>"
      ]
     },
     "execution_count": 32,
     "metadata": {},
     "output_type": "execute_result"
    }
   ],
   "source": [
    "mse = tf.metrics.mean_squared_error(y_true=y_test,\n",
    "                                    y_pred=y_preds.squeeze())\n",
    "mse"
   ]
  },
  {
   "cell_type": "code",
   "execution_count": 33,
   "metadata": {},
   "outputs": [
    {
     "data": {
      "text/plain": [
       "<tf.Tensor: shape=(), dtype=float64, numpy=30.384039306640624>"
      ]
     },
     "execution_count": 33,
     "metadata": {},
     "output_type": "execute_result"
    }
   ],
   "source": [
    "# Returns the same as tf.metrics.mean_absolute_error()\n",
    "tf.reduce_mean(tf.abs(y_test-y_preds.squeeze()))"
   ]
  },
  {
   "cell_type": "code",
   "execution_count": 34,
   "metadata": {},
   "outputs": [],
   "source": [
    "def mae(y_test, y_pred):\n",
    "  \"\"\"\n",
    "  Calculuates mean absolute error between y_test and y_preds.\n",
    "  \"\"\"\n",
    "  return tf.metrics.mean_absolute_error(y_test,\n",
    "                                        y_pred)\n",
    "  \n",
    "def mse(y_test, y_pred):\n",
    "  \"\"\"\n",
    "  Calculates mean squared error between y_test and y_preds.\n",
    "  \"\"\"\n",
    "  return tf.metrics.mean_squared_error(y_test,\n",
    "                                       y_pred)\n",
    "     "
   ]
  },
  {
   "attachments": {},
   "cell_type": "markdown",
   "metadata": {},
   "source": [
    "## Running experiments to improve a model"
   ]
  },
  {
   "attachments": {},
   "cell_type": "markdown",
   "metadata": {},
   "source": [
    "1. **Get more data** - get more examples for your model to train on (more opportunities to learn patterns).\n",
    "\n",
    "2. **Make your model larger (use a more complex model)** - this might come in the form of more layers or more hidden units in each layer.\n",
    "\n",
    "3. **Train for longer** - give your model more of a chance to find the patterns in the data."
   ]
  },
  {
   "attachments": {},
   "cell_type": "markdown",
   "metadata": {},
   "source": [
    "1. **model_1** - 1 layer, 100 epochs.\n",
    "2. **model_2** - 2 layers, 100 epochs.\n",
    "3. **model_3** - 2 layers, 500 epochs"
   ]
  },
  {
   "attachments": {},
   "cell_type": "markdown",
   "metadata": {},
   "source": [
    "Build **model_1**"
   ]
  },
  {
   "cell_type": "code",
   "execution_count": 35,
   "metadata": {},
   "outputs": [
    {
     "name": "stdout",
     "output_type": "stream",
     "text": [
      "Epoch 1/100\n",
      "2/2 [==============================] - 0s 5ms/step - loss: 36.9252 - mae: 36.9252\n",
      "Epoch 2/100\n",
      "2/2 [==============================] - 0s 2ms/step - loss: 9.9136 - mae: 9.9136\n",
      "Epoch 3/100\n",
      "2/2 [==============================] - 0s 1ms/step - loss: 11.3750 - mae: 11.3750\n",
      "Epoch 4/100\n",
      "2/2 [==============================] - 0s 3ms/step - loss: 9.5221 - mae: 9.5221\n",
      "Epoch 5/100\n",
      "2/2 [==============================] - 0s 4ms/step - loss: 10.4234 - mae: 10.4234\n",
      "Epoch 6/100\n",
      "2/2 [==============================] - 0s 2ms/step - loss: 9.6564 - mae: 9.6564\n",
      "Epoch 7/100\n",
      "2/2 [==============================] - 0s 3ms/step - loss: 8.7603 - mae: 8.7603\n",
      "Epoch 8/100\n",
      "2/2 [==============================] - 0s 3ms/step - loss: 9.0669 - mae: 9.0669\n",
      "Epoch 9/100\n",
      "2/2 [==============================] - 0s 2ms/step - loss: 19.2140 - mae: 19.2140\n",
      "Epoch 10/100\n",
      "2/2 [==============================] - 0s 3ms/step - loss: 10.3764 - mae: 10.3764\n",
      "Epoch 11/100\n",
      "2/2 [==============================] - 0s 3ms/step - loss: 8.5044 - mae: 8.5044\n",
      "Epoch 12/100\n",
      "2/2 [==============================] - 0s 3ms/step - loss: 10.8751 - mae: 10.8751\n",
      "Epoch 13/100\n",
      "2/2 [==============================] - 0s 3ms/step - loss: 9.9168 - mae: 9.9168\n",
      "Epoch 14/100\n",
      "2/2 [==============================] - 0s 3ms/step - loss: 9.4792 - mae: 9.4792\n",
      "Epoch 15/100\n",
      "2/2 [==============================] - 0s 3ms/step - loss: 13.6787 - mae: 13.6787\n",
      "Epoch 16/100\n",
      "2/2 [==============================] - 0s 3ms/step - loss: 8.9417 - mae: 8.9417\n",
      "Epoch 17/100\n",
      "2/2 [==============================] - 0s 2ms/step - loss: 12.8451 - mae: 12.8451\n",
      "Epoch 18/100\n",
      "2/2 [==============================] - 0s 3ms/step - loss: 10.4748 - mae: 10.4748\n",
      "Epoch 19/100\n",
      "2/2 [==============================] - 0s 3ms/step - loss: 19.2483 - mae: 19.2483\n",
      "Epoch 20/100\n",
      "2/2 [==============================] - 0s 3ms/step - loss: 15.9132 - mae: 15.9132\n",
      "Epoch 21/100\n",
      "2/2 [==============================] - 0s 3ms/step - loss: 11.7425 - mae: 11.7425\n",
      "Epoch 22/100\n",
      "2/2 [==============================] - 0s 3ms/step - loss: 8.9459 - mae: 8.9459\n",
      "Epoch 23/100\n",
      "2/2 [==============================] - 0s 3ms/step - loss: 10.0567 - mae: 10.0567\n",
      "Epoch 24/100\n",
      "2/2 [==============================] - 0s 3ms/step - loss: 15.6403 - mae: 15.6403\n",
      "Epoch 25/100\n",
      "2/2 [==============================] - 0s 2ms/step - loss: 12.1080 - mae: 12.1080\n",
      "Epoch 26/100\n",
      "2/2 [==============================] - 0s 3ms/step - loss: 13.2203 - mae: 13.2203\n",
      "Epoch 27/100\n",
      "2/2 [==============================] - 0s 2ms/step - loss: 10.6851 - mae: 10.6851\n",
      "Epoch 28/100\n",
      "2/2 [==============================] - 0s 3ms/step - loss: 12.9137 - mae: 12.9137\n",
      "Epoch 29/100\n",
      "2/2 [==============================] - 0s 3ms/step - loss: 9.5196 - mae: 9.5196\n",
      "Epoch 30/100\n",
      "2/2 [==============================] - 0s 2ms/step - loss: 16.4503 - mae: 16.4503\n",
      "Epoch 31/100\n",
      "2/2 [==============================] - 0s 2ms/step - loss: 23.5476 - mae: 23.5476\n",
      "Epoch 32/100\n",
      "2/2 [==============================] - 0s 2ms/step - loss: 7.6100 - mae: 7.6100\n",
      "Epoch 33/100\n",
      "2/2 [==============================] - 0s 2ms/step - loss: 9.3053 - mae: 9.3053\n",
      "Epoch 34/100\n",
      "2/2 [==============================] - 0s 2ms/step - loss: 13.6625 - mae: 13.6625\n",
      "Epoch 35/100\n",
      "2/2 [==============================] - 0s 2ms/step - loss: 11.1736 - mae: 11.1736\n",
      "Epoch 36/100\n",
      "2/2 [==============================] - 0s 3ms/step - loss: 13.4083 - mae: 13.4083\n",
      "Epoch 37/100\n",
      "2/2 [==============================] - 0s 2ms/step - loss: 9.4479 - mae: 9.4479\n",
      "Epoch 38/100\n",
      "2/2 [==============================] - 0s 3ms/step - loss: 10.0982 - mae: 10.0982\n",
      "Epoch 39/100\n",
      "2/2 [==============================] - 0s 2ms/step - loss: 8.9751 - mae: 8.9751\n",
      "Epoch 40/100\n",
      "2/2 [==============================] - 0s 3ms/step - loss: 9.6031 - mae: 9.6031\n",
      "Epoch 41/100\n",
      "2/2 [==============================] - 0s 2ms/step - loss: 10.5635 - mae: 10.5635\n",
      "Epoch 42/100\n",
      "2/2 [==============================] - 0s 3ms/step - loss: 10.6164 - mae: 10.6164\n",
      "Epoch 43/100\n",
      "2/2 [==============================] - 0s 2ms/step - loss: 7.2132 - mae: 7.2132\n",
      "Epoch 44/100\n",
      "2/2 [==============================] - 0s 3ms/step - loss: 8.0170 - mae: 8.0170\n",
      "Epoch 45/100\n",
      "2/2 [==============================] - 0s 2ms/step - loss: 9.8182 - mae: 9.8182\n",
      "Epoch 46/100\n",
      "2/2 [==============================] - 0s 2ms/step - loss: 8.8977 - mae: 8.8977\n",
      "Epoch 47/100\n",
      "2/2 [==============================] - 0s 2ms/step - loss: 7.5692 - mae: 7.5692\n",
      "Epoch 48/100\n",
      "2/2 [==============================] - 0s 2ms/step - loss: 8.5394 - mae: 8.5394\n",
      "Epoch 49/100\n",
      "2/2 [==============================] - 0s 2ms/step - loss: 10.0290 - mae: 10.0290\n",
      "Epoch 50/100\n",
      "2/2 [==============================] - 0s 2ms/step - loss: 8.9864 - mae: 8.9864\n",
      "Epoch 51/100\n",
      "2/2 [==============================] - 0s 2ms/step - loss: 10.7049 - mae: 10.7049\n",
      "Epoch 52/100\n",
      "2/2 [==============================] - 0s 3ms/step - loss: 15.2658 - mae: 15.2658\n",
      "Epoch 53/100\n",
      "2/2 [==============================] - 0s 999us/step - loss: 14.2950 - mae: 14.2950\n",
      "Epoch 54/100\n",
      "2/2 [==============================] - 0s 3ms/step - loss: 21.5509 - mae: 21.5509\n",
      "Epoch 55/100\n",
      "2/2 [==============================] - 0s 3ms/step - loss: 16.0444 - mae: 16.0444\n",
      "Epoch 56/100\n",
      "2/2 [==============================] - 0s 2ms/step - loss: 10.2505 - mae: 10.2505\n",
      "Epoch 57/100\n",
      "2/2 [==============================] - 0s 2ms/step - loss: 9.7944 - mae: 9.7944\n",
      "Epoch 58/100\n",
      "2/2 [==============================] - 0s 2ms/step - loss: 9.0770 - mae: 9.0770\n",
      "Epoch 59/100\n",
      "2/2 [==============================] - 0s 2ms/step - loss: 8.2812 - mae: 8.2812\n",
      "Epoch 60/100\n",
      "2/2 [==============================] - 0s 3ms/step - loss: 9.3741 - mae: 9.3741\n",
      "Epoch 61/100\n",
      "2/2 [==============================] - 0s 1ms/step - loss: 11.2010 - mae: 11.2010\n",
      "Epoch 62/100\n",
      "2/2 [==============================] - 0s 3ms/step - loss: 12.0375 - mae: 12.0375\n",
      "Epoch 63/100\n",
      "2/2 [==============================] - 0s 5ms/step - loss: 7.2740 - mae: 7.2740\n",
      "Epoch 64/100\n",
      "2/2 [==============================] - 0s 5ms/step - loss: 12.4634 - mae: 12.4634\n",
      "Epoch 65/100\n",
      "2/2 [==============================] - 0s 2ms/step - loss: 10.5369 - mae: 10.5369\n",
      "Epoch 66/100\n",
      "2/2 [==============================] - 0s 4ms/step - loss: 15.5698 - mae: 15.5698\n",
      "Epoch 67/100\n",
      "2/2 [==============================] - 0s 4ms/step - loss: 9.9831 - mae: 9.9831\n",
      "Epoch 68/100\n",
      "2/2 [==============================] - 0s 2ms/step - loss: 8.7108 - mae: 8.7108\n",
      "Epoch 69/100\n",
      "2/2 [==============================] - 0s 2ms/step - loss: 13.4459 - mae: 13.4459\n",
      "Epoch 70/100\n",
      "2/2 [==============================] - 0s 3ms/step - loss: 7.4709 - mae: 7.4709\n",
      "Epoch 71/100\n",
      "2/2 [==============================] - 0s 3ms/step - loss: 12.2638 - mae: 12.2638\n",
      "Epoch 72/100\n",
      "2/2 [==============================] - 0s 2ms/step - loss: 8.5111 - mae: 8.5111\n",
      "Epoch 73/100\n",
      "2/2 [==============================] - 0s 3ms/step - loss: 7.0380 - mae: 7.0380\n",
      "Epoch 74/100\n",
      "2/2 [==============================] - 0s 2ms/step - loss: 9.8901 - mae: 9.8901\n",
      "Epoch 75/100\n",
      "2/2 [==============================] - 0s 2ms/step - loss: 9.9629 - mae: 9.9629\n",
      "Epoch 76/100\n",
      "2/2 [==============================] - 0s 2ms/step - loss: 10.1233 - mae: 10.1233\n",
      "Epoch 77/100\n",
      "2/2 [==============================] - 0s 3ms/step - loss: 12.9959 - mae: 12.9959\n",
      "Epoch 78/100\n",
      "2/2 [==============================] - 0s 3ms/step - loss: 10.8939 - mae: 10.8939\n",
      "Epoch 79/100\n",
      "2/2 [==============================] - 0s 2ms/step - loss: 15.3707 - mae: 15.3707\n",
      "Epoch 80/100\n",
      "2/2 [==============================] - 0s 2ms/step - loss: 11.7354 - mae: 11.7354\n",
      "Epoch 81/100\n",
      "2/2 [==============================] - 0s 3ms/step - loss: 9.2443 - mae: 9.2443\n",
      "Epoch 82/100\n",
      "2/2 [==============================] - 0s 2ms/step - loss: 12.7364 - mae: 12.7364\n",
      "Epoch 83/100\n",
      "2/2 [==============================] - 0s 2ms/step - loss: 8.2876 - mae: 8.2876\n",
      "Epoch 84/100\n",
      "2/2 [==============================] - 0s 2ms/step - loss: 7.3059 - mae: 7.3059\n",
      "Epoch 85/100\n",
      "2/2 [==============================] - 0s 2ms/step - loss: 10.4646 - mae: 10.4646\n",
      "Epoch 86/100\n",
      "2/2 [==============================] - 0s 2ms/step - loss: 9.1384 - mae: 9.1384\n",
      "Epoch 87/100\n",
      "2/2 [==============================] - 0s 3ms/step - loss: 11.8489 - mae: 11.8489\n",
      "Epoch 88/100\n",
      "2/2 [==============================] - 0s 3ms/step - loss: 10.4572 - mae: 10.4572\n",
      "Epoch 89/100\n",
      "2/2 [==============================] - 0s 2ms/step - loss: 6.9708 - mae: 6.9708\n",
      "Epoch 90/100\n",
      "2/2 [==============================] - 0s 999us/step - loss: 13.7815 - mae: 13.7815\n",
      "Epoch 91/100\n",
      "2/2 [==============================] - 0s 997us/step - loss: 7.8637 - mae: 7.8637\n",
      "Epoch 92/100\n",
      "2/2 [==============================] - 0s 2ms/step - loss: 7.9178 - mae: 7.9178\n",
      "Epoch 93/100\n",
      "2/2 [==============================] - 0s 2ms/step - loss: 9.4117 - mae: 9.4117\n",
      "Epoch 94/100\n",
      "2/2 [==============================] - 0s 3ms/step - loss: 8.7329 - mae: 8.7329\n",
      "Epoch 95/100\n",
      "2/2 [==============================] - 0s 2ms/step - loss: 9.8500 - mae: 9.8500\n",
      "Epoch 96/100\n",
      "2/2 [==============================] - 0s 2ms/step - loss: 7.3416 - mae: 7.3416\n",
      "Epoch 97/100\n",
      "2/2 [==============================] - 0s 2ms/step - loss: 6.8548 - mae: 6.8548\n",
      "Epoch 98/100\n",
      "2/2 [==============================] - 0s 1000us/step - loss: 7.2487 - mae: 7.2487\n",
      "Epoch 99/100\n",
      "2/2 [==============================] - 0s 1ms/step - loss: 7.4002 - mae: 7.4002\n",
      "Epoch 100/100\n",
      "2/2 [==============================] - 0s 2ms/step - loss: 11.1059 - mae: 11.1059\n"
     ]
    },
    {
     "data": {
      "text/plain": [
       "<keras.callbacks.History at 0x195187cc050>"
      ]
     },
     "execution_count": 35,
     "metadata": {},
     "output_type": "execute_result"
    }
   ],
   "source": [
    "tf.random.set_seed(42)\n",
    "\n",
    "model_1 = tf.keras.Sequential([\n",
    "    tf.keras.layers.Dense(1)\n",
    "])\n",
    "\n",
    "model_1.compile(loss=tf.keras.losses.mae,\n",
    "                optimizer=tf.keras.optimizers.SGD(),\n",
    "                metrics=[\"mae\"])\n",
    "\n",
    "model_1.fit(tf.expand_dims(X_train, axis=-1), y_train, epochs=100)"
   ]
  },
  {
   "cell_type": "code",
   "execution_count": 36,
   "metadata": {},
   "outputs": [
    {
     "name": "stdout",
     "output_type": "stream",
     "text": [
      "1/1 [==============================] - 0s 25ms/step\n"
     ]
    },
    {
     "data": {
      "image/png": "[encoded data removed]",
      "text/plain": [
       "<Figure size 1000x700 with 1 Axes>"
      ]
     },
     "metadata": {},
     "output_type": "display_data"
    }
   ],
   "source": [
    "y_preds_1 = model_1.predict(X_test)\n",
    "plot_predictions(predictions=y_preds_1)"
   ]
  },
  {
   "cell_type": "code",
   "execution_count": 37,
   "metadata": {},
   "outputs": [
    {
     "data": {
      "text/plain": [
       "(21.273703, 456.00742)"
      ]
     },
     "execution_count": 37,
     "metadata": {},
     "output_type": "execute_result"
    }
   ],
   "source": [
    "# Calculate model_1 metrics\n",
    "\n",
    "mae_1 = mae(y_test, y_preds_1.squeeze()).numpy()\n",
    "mse_1 = mse(y_test, y_preds_1.squeeze()).numpy()\n",
    "mae_1, mse_1"
   ]
  },
  {
   "attachments": {},
   "cell_type": "markdown",
   "metadata": {},
   "source": [
    "Build **model_2**"
   ]
  },
  {
   "cell_type": "code",
   "execution_count": 38,
   "metadata": {},
   "outputs": [
    {
     "name": "stdout",
     "output_type": "stream",
     "text": [
      "Epoch 1/100\n",
      "2/2 [==============================] - 0s 4ms/step - loss: 36.1586 - mae: 36.1586\n",
      "Epoch 2/100\n",
      "2/2 [==============================] - 0s 2ms/step - loss: 13.8998 - mae: 13.8998\n",
      "Epoch 3/100\n",
      "2/2 [==============================] - 0s 2ms/step - loss: 19.3903 - mae: 19.3903\n",
      "Epoch 4/100\n",
      "2/2 [==============================] - 0s 2ms/step - loss: 12.5772 - mae: 12.5772\n",
      "Epoch 5/100\n",
      "2/2 [==============================] - 0s 3ms/step - loss: 13.6852 - mae: 13.6852\n",
      "Epoch 6/100\n",
      "2/2 [==============================] - 0s 3ms/step - loss: 10.9678 - mae: 10.9678\n",
      "Epoch 7/100\n",
      "2/2 [==============================] - 0s 4ms/step - loss: 11.9284 - mae: 11.9284\n",
      "Epoch 8/100\n",
      "2/2 [==============================] - 0s 3ms/step - loss: 10.7840 - mae: 10.7840\n",
      "Epoch 9/100\n",
      "2/2 [==============================] - 0s 3ms/step - loss: 36.9018 - mae: 36.9018\n",
      "Epoch 10/100\n",
      "2/2 [==============================] - 0s 3ms/step - loss: 24.6625 - mae: 24.6625\n",
      "Epoch 11/100\n",
      "2/2 [==============================] - 0s 2ms/step - loss: 11.0232 - mae: 11.0232\n",
      "Epoch 12/100\n",
      "2/2 [==============================] - 0s 3ms/step - loss: 24.4610 - mae: 24.4610\n",
      "Epoch 13/100\n",
      "2/2 [==============================] - 0s 2ms/step - loss: 19.1180 - mae: 19.1180\n",
      "Epoch 14/100\n",
      "2/2 [==============================] - 0s 2ms/step - loss: 23.2923 - mae: 23.2923\n",
      "Epoch 15/100\n",
      "2/2 [==============================] - 0s 3ms/step - loss: 15.1497 - mae: 15.1497\n",
      "Epoch 16/100\n",
      "2/2 [==============================] - 0s 4ms/step - loss: 11.3022 - mae: 11.3022\n",
      "Epoch 17/100\n",
      "2/2 [==============================] - 0s 4ms/step - loss: 23.0432 - mae: 23.0432\n",
      "Epoch 18/100\n",
      "2/2 [==============================] - 0s 3ms/step - loss: 11.3561 - mae: 11.3561\n",
      "Epoch 19/100\n",
      "2/2 [==============================] - 0s 3ms/step - loss: 13.9542 - mae: 13.9542\n",
      "Epoch 20/100\n",
      "2/2 [==============================] - 0s 2ms/step - loss: 11.1992 - mae: 11.1992\n",
      "Epoch 21/100\n",
      "2/2 [==============================] - 0s 3ms/step - loss: 17.2810 - mae: 17.2810\n",
      "Epoch 22/100\n",
      "2/2 [==============================] - 0s 999us/step - loss: 15.5180 - mae: 15.5180\n",
      "Epoch 23/100\n",
      "2/2 [==============================] - 0s 3ms/step - loss: 9.2275 - mae: 9.2275\n",
      "Epoch 24/100\n",
      "2/2 [==============================] - 0s 3ms/step - loss: 17.2528 - mae: 17.2528\n",
      "Epoch 25/100\n",
      "2/2 [==============================] - 0s 3ms/step - loss: 15.9260 - mae: 15.9260\n",
      "Epoch 26/100\n",
      "2/2 [==============================] - 0s 3ms/step - loss: 20.9095 - mae: 20.9095\n",
      "Epoch 27/100\n",
      "2/2 [==============================] - 0s 2ms/step - loss: 26.0075 - mae: 26.0075\n",
      "Epoch 28/100\n",
      "2/2 [==============================] - 0s 2ms/step - loss: 18.4986 - mae: 18.4986\n",
      "Epoch 29/100\n",
      "2/2 [==============================] - 0s 2ms/step - loss: 9.2326 - mae: 9.2326\n",
      "Epoch 30/100\n",
      "2/2 [==============================] - 0s 2ms/step - loss: 29.1264 - mae: 29.1264\n",
      "Epoch 31/100\n",
      "2/2 [==============================] - 0s 3ms/step - loss: 52.7567 - mae: 52.7567\n",
      "Epoch 32/100\n",
      "2/2 [==============================] - 0s 2ms/step - loss: 11.9314 - mae: 11.9314\n",
      "Epoch 33/100\n",
      "2/2 [==============================] - 0s 2ms/step - loss: 15.5416 - mae: 15.5416\n",
      "Epoch 34/100\n",
      "2/2 [==============================] - 0s 2ms/step - loss: 12.6226 - mae: 12.6226\n",
      "Epoch 35/100\n",
      "2/2 [==============================] - 0s 4ms/step - loss: 9.2038 - mae: 9.2038\n",
      "Epoch 36/100\n",
      "2/2 [==============================] - 0s 2ms/step - loss: 16.5458 - mae: 16.5458\n",
      "Epoch 37/100\n",
      "2/2 [==============================] - 0s 3ms/step - loss: 11.0577 - mae: 11.0577\n",
      "Epoch 38/100\n",
      "2/2 [==============================] - 0s 3ms/step - loss: 18.1854 - mae: 18.1854\n",
      "Epoch 39/100\n",
      "2/2 [==============================] - 0s 3ms/step - loss: 19.1192 - mae: 19.1192\n",
      "Epoch 40/100\n",
      "2/2 [==============================] - 0s 4ms/step - loss: 20.4669 - mae: 20.4669\n",
      "Epoch 41/100\n",
      "2/2 [==============================] - 0s 5ms/step - loss: 14.8522 - mae: 14.8522\n",
      "Epoch 42/100\n",
      "2/2 [==============================] - 0s 3ms/step - loss: 12.2371 - mae: 12.2371\n",
      "Epoch 43/100\n",
      "2/2 [==============================] - 0s 4ms/step - loss: 10.7048 - mae: 10.7048\n",
      "Epoch 44/100\n",
      "2/2 [==============================] - 0s 3ms/step - loss: 22.9478 - mae: 22.9478\n",
      "Epoch 45/100\n",
      "2/2 [==============================] - 0s 3ms/step - loss: 10.3565 - mae: 10.3565\n",
      "Epoch 46/100\n",
      "2/2 [==============================] - 0s 2ms/step - loss: 11.7481 - mae: 11.7481\n",
      "Epoch 47/100\n",
      "2/2 [==============================] - 0s 2ms/step - loss: 9.6480 - mae: 9.6480\n",
      "Epoch 48/100\n",
      "2/2 [==============================] - 0s 2ms/step - loss: 17.2509 - mae: 17.2509\n",
      "Epoch 49/100\n",
      "2/2 [==============================] - 0s 2ms/step - loss: 9.5489 - mae: 9.5489\n",
      "Epoch 50/100\n",
      "2/2 [==============================] - 0s 2ms/step - loss: 13.7853 - mae: 13.7853\n",
      "Epoch 51/100\n",
      "2/2 [==============================] - 0s 2ms/step - loss: 11.5770 - mae: 11.5770\n",
      "Epoch 52/100\n",
      "2/2 [==============================] - 0s 2ms/step - loss: 30.5153 - mae: 30.5153\n",
      "Epoch 53/100\n",
      "2/2 [==============================] - 0s 3ms/step - loss: 14.3319 - mae: 14.3319\n",
      "Epoch 54/100\n",
      "2/2 [==============================] - 0s 2ms/step - loss: 23.9407 - mae: 23.9407\n",
      "Epoch 55/100\n",
      "2/2 [==============================] - 0s 999us/step - loss: 23.1584 - mae: 23.1584\n",
      "Epoch 56/100\n",
      "2/2 [==============================] - 0s 3ms/step - loss: 10.8628 - mae: 10.8628\n",
      "Epoch 57/100\n",
      "2/2 [==============================] - 0s 3ms/step - loss: 12.7229 - mae: 12.7229\n",
      "Epoch 58/100\n",
      "2/2 [==============================] - 0s 2ms/step - loss: 9.5849 - mae: 9.5849\n",
      "Epoch 59/100\n",
      "2/2 [==============================] - 0s 3ms/step - loss: 12.5028 - mae: 12.5028\n",
      "Epoch 60/100\n",
      "2/2 [==============================] - 0s 4ms/step - loss: 12.3086 - mae: 12.3086\n",
      "Epoch 61/100\n",
      "2/2 [==============================] - 0s 3ms/step - loss: 17.4566 - mae: 17.4566\n",
      "Epoch 62/100\n",
      "2/2 [==============================] - 0s 2ms/step - loss: 10.5965 - mae: 10.5965\n",
      "Epoch 63/100\n",
      "2/2 [==============================] - 0s 2ms/step - loss: 10.4806 - mae: 10.4806\n",
      "Epoch 64/100\n",
      "2/2 [==============================] - 0s 1ms/step - loss: 24.8597 - mae: 24.8597\n",
      "Epoch 65/100\n",
      "2/2 [==============================] - 0s 2ms/step - loss: 10.6687 - mae: 10.6687\n",
      "Epoch 66/100\n",
      "2/2 [==============================] - 0s 2ms/step - loss: 21.9809 - mae: 21.9809\n",
      "Epoch 67/100\n",
      "2/2 [==============================] - 0s 3ms/step - loss: 10.1862 - mae: 10.1862\n",
      "Epoch 68/100\n",
      "2/2 [==============================] - 0s 2ms/step - loss: 13.3456 - mae: 13.3456\n",
      "Epoch 69/100\n",
      "2/2 [==============================] - 0s 2ms/step - loss: 11.3410 - mae: 11.3410\n",
      "Epoch 70/100\n",
      "2/2 [==============================] - 0s 2ms/step - loss: 13.5185 - mae: 13.5185\n",
      "Epoch 71/100\n",
      "2/2 [==============================] - 0s 2ms/step - loss: 15.5091 - mae: 15.5091\n",
      "Epoch 72/100\n",
      "2/2 [==============================] - 0s 2ms/step - loss: 11.7754 - mae: 11.7754\n",
      "Epoch 73/100\n",
      "2/2 [==============================] - 0s 2ms/step - loss: 16.5371 - mae: 16.5371\n",
      "Epoch 74/100\n",
      "2/2 [==============================] - 0s 2ms/step - loss: 24.0088 - mae: 24.0088\n",
      "Epoch 75/100\n",
      "2/2 [==============================] - 0s 2ms/step - loss: 9.5710 - mae: 9.5710\n",
      "Epoch 76/100\n",
      "2/2 [==============================] - 0s 2ms/step - loss: 12.4182 - mae: 12.4182\n",
      "Epoch 77/100\n",
      "2/2 [==============================] - 0s 2ms/step - loss: 16.6365 - mae: 16.6365\n",
      "Epoch 78/100\n",
      "2/2 [==============================] - 0s 2ms/step - loss: 9.0477 - mae: 9.0477\n",
      "Epoch 79/100\n",
      "2/2 [==============================] - 0s 2ms/step - loss: 23.9658 - mae: 23.9658\n",
      "Epoch 80/100\n",
      "2/2 [==============================] - 0s 3ms/step - loss: 26.7441 - mae: 26.7441\n",
      "Epoch 81/100\n",
      "2/2 [==============================] - 0s 2ms/step - loss: 11.6600 - mae: 11.6600\n",
      "Epoch 82/100\n",
      "2/2 [==============================] - 0s 2ms/step - loss: 12.0153 - mae: 12.0153\n",
      "Epoch 83/100\n",
      "2/2 [==============================] - 0s 2ms/step - loss: 17.4100 - mae: 17.4100\n",
      "Epoch 84/100\n",
      "2/2 [==============================] - 0s 2ms/step - loss: 7.2506 - mae: 7.2506\n",
      "Epoch 85/100\n",
      "2/2 [==============================] - 0s 3ms/step - loss: 14.9508 - mae: 14.9508\n",
      "Epoch 86/100\n",
      "2/2 [==============================] - 0s 2ms/step - loss: 15.2729 - mae: 15.2729\n",
      "Epoch 87/100\n",
      "2/2 [==============================] - 0s 3ms/step - loss: 19.0855 - mae: 19.0855\n",
      "Epoch 88/100\n",
      "2/2 [==============================] - 0s 2ms/step - loss: 29.8782 - mae: 29.8782\n",
      "Epoch 89/100\n",
      "2/2 [==============================] - 0s 2ms/step - loss: 10.1717 - mae: 10.1717\n",
      "Epoch 90/100\n",
      "2/2 [==============================] - 0s 2ms/step - loss: 21.5775 - mae: 21.5775\n",
      "Epoch 91/100\n",
      "2/2 [==============================] - 0s 2ms/step - loss: 10.5751 - mae: 10.5751\n",
      "Epoch 92/100\n",
      "2/2 [==============================] - 0s 2ms/step - loss: 18.4516 - mae: 18.4516\n",
      "Epoch 93/100\n",
      "2/2 [==============================] - 0s 2ms/step - loss: 7.4095 - mae: 7.4095\n",
      "Epoch 94/100\n",
      "2/2 [==============================] - 0s 3ms/step - loss: 17.7926 - mae: 17.7926\n",
      "Epoch 95/100\n",
      "2/2 [==============================] - 0s 3ms/step - loss: 11.1287 - mae: 11.1287\n",
      "Epoch 96/100\n",
      "2/2 [==============================] - 0s 4ms/step - loss: 19.4934 - mae: 19.4934\n",
      "Epoch 97/100\n",
      "2/2 [==============================] - 0s 2ms/step - loss: 12.5151 - mae: 12.5151\n",
      "Epoch 98/100\n",
      "2/2 [==============================] - 0s 2ms/step - loss: 10.3011 - mae: 10.3011\n",
      "Epoch 99/100\n",
      "2/2 [==============================] - 0s 2ms/step - loss: 13.8561 - mae: 13.8561\n",
      "Epoch 100/100\n",
      "2/2 [==============================] - 0s 1ms/step - loss: 20.1907 - mae: 20.1907\n"
     ]
    },
    {
     "data": {
      "text/plain": [
       "<keras.callbacks.History at 0x19518c4c210>"
      ]
     },
     "execution_count": 38,
     "metadata": {},
     "output_type": "execute_result"
    }
   ],
   "source": [
    "tf.random.set_seed(42)\n",
    "\n",
    "model_2 = tf.keras.Sequential([\n",
    "    tf.keras.layers.Dense(1),\n",
    "    tf.keras.layers.Dense(1)\n",
    "])\n",
    "\n",
    "model_2.compile(loss=tf.keras.losses.mae,\n",
    "                optimizer=tf.keras.optimizers.SGD(),\n",
    "                metrics=[\"mae\"])\n",
    "\n",
    "model_2.fit(tf.expand_dims(X_train, axis=-1), y_train, epochs=100)"
   ]
  },
  {
   "cell_type": "code",
   "execution_count": 39,
   "metadata": {},
   "outputs": [
    {
     "name": "stdout",
     "output_type": "stream",
     "text": [
      "WARNING:tensorflow:5 out of the last 5 calls to <function Model.make_predict_function.<locals>.predict_function at 0x000001951881BEC0> triggered tf.function retracing. Tracing is expensive and the excessive number of tracings could be due to (1) creating @tf.function repeatedly in a loop, (2) passing tensors with different shapes, (3) passing Python objects instead of tensors. For (1), please define your @tf.function outside of the loop. For (2), @tf.function has reduce_retracing=True option that can avoid unnecessary retracing. For (3), please refer to https://www.tensorflow.org/guide/function#controlling_retracing and https://www.tensorflow.org/api_docs/python/tf/function for  more details.\n",
      "1/1 [==============================] - 0s 28ms/step\n"
     ]
    },
    {
     "data": {
      "image/png": "[encoded data removed]",
      "text/plain": [
       "<Figure size 1000x700 with 1 Axes>"
      ]
     },
     "metadata": {},
     "output_type": "display_data"
    }
   ],
   "source": [
    "y_preds_2 = model_2.predict(X_test)\n",
    "plot_predictions(predictions=y_preds_2)"
   ]
  },
  {
   "attachments": {},
   "cell_type": "markdown",
   "metadata": {},
   "source": [
    "that's looking better already! And all it took was an extra layer."
   ]
  },
  {
   "cell_type": "code",
   "execution_count": 40,
   "metadata": {},
   "outputs": [
    {
     "data": {
      "text/plain": [
       "(3.139012, 12.669317)"
      ]
     },
     "execution_count": 40,
     "metadata": {},
     "output_type": "execute_result"
    }
   ],
   "source": [
    "# Calculate model_2 metrics\n",
    "\n",
    "mae_2 = mae(y_test, y_preds_2.squeeze()).numpy()\n",
    "mse_2 = mse(y_test, y_preds_2.squeeze()).numpy()\n",
    "\n",
    "mae_2, mse_2"
   ]
  },
  {
   "attachments": {},
   "cell_type": "markdown",
   "metadata": {},
   "source": [
    "Build **model_3**"
   ]
  },
  {
   "cell_type": "code",
   "execution_count": 41,
   "metadata": {},
   "outputs": [
    {
     "data": {
      "text/plain": [
       "<keras.callbacks.History at 0x19518d47390>"
      ]
     },
     "execution_count": 41,
     "metadata": {},
     "output_type": "execute_result"
    }
   ],
   "source": [
    "tf.random.set_seed(42)\n",
    "\n",
    "# Same with model_2\n",
    "model_3 = tf.keras.Sequential([\n",
    "    tf.keras.layers.Dense(1),\n",
    "    tf.keras.layers.Dense(1)\n",
    "])\n",
    "\n",
    "model_3.compile(loss=tf.keras.losses.mae,\n",
    "                optimizer=tf.keras.optimizers.SGD(),\n",
    "                metrics=[\"mae\"])\n",
    "\n",
    "model_3.fit(tf.expand_dims(X_train, axis=-1), y_train, epochs=500, verbose=0)"
   ]
  },
  {
   "cell_type": "code",
   "execution_count": 42,
   "metadata": {},
   "outputs": [
    {
     "name": "stdout",
     "output_type": "stream",
     "text": [
      "WARNING:tensorflow:6 out of the last 6 calls to <function Model.make_predict_function.<locals>.predict_function at 0x00000195189AC720> triggered tf.function retracing. Tracing is expensive and the excessive number of tracings could be due to (1) creating @tf.function repeatedly in a loop, (2) passing tensors with different shapes, (3) passing Python objects instead of tensors. For (1), please define your @tf.function outside of the loop. For (2), @tf.function has reduce_retracing=True option that can avoid unnecessary retracing. For (3), please refer to https://www.tensorflow.org/guide/function#controlling_retracing and https://www.tensorflow.org/api_docs/python/tf/function for  more details.\n",
      "1/1 [==============================] - 0s 28ms/step\n"
     ]
    },
    {
     "data": {
      "image/png": "[encoded data removed]",
      "text/plain": [
       "<Figure size 1000x700 with 1 Axes>"
      ]
     },
     "metadata": {},
     "output_type": "display_data"
    }
   ],
   "source": [
    "y_preds_3 = model_3.predict(X_test)\n",
    "plot_predictions(predictions=y_preds_3)"
   ]
  },
  {
   "attachments": {},
   "cell_type": "markdown",
   "metadata": {},
   "source": [
    "Strange, we trained for longer but our model performed worse?\n",
    "\n",
    "As it turns out, our model might've trained too long and has thus resulted in worse results (we'll see ways to prevent training for too long later on)."
   ]
  },
  {
   "cell_type": "code",
   "execution_count": 43,
   "metadata": {},
   "outputs": [
    {
     "data": {
      "text/plain": [
       "(68.41567, 4766.4688)"
      ]
     },
     "execution_count": 43,
     "metadata": {},
     "output_type": "execute_result"
    }
   ],
   "source": [
    "# Calculate model_3 metrics\n",
    "\n",
    "mae_3 = mae(y_test, y_preds_3.squeeze()).numpy()\n",
    "mse_3 = mse(y_test, y_preds_3.squeeze()).numpy()\n",
    "\n",
    "mae_3, mse_3"
   ]
  },
  {
   "attachments": {},
   "cell_type": "markdown",
   "metadata": {},
   "source": [
    "### Comparing results\n",
    "\n",
    "Now we've got results for 3 similar but slighty different result, let's compare them."
   ]
  },
  {
   "cell_type": "code",
   "execution_count": 44,
   "metadata": {},
   "outputs": [],
   "source": [
    "model_results = [[\"model_1\", mae_1, mse_1],\n",
    "                 [\"model_2\", mae_2, mse_2],\n",
    "                 [\"model_3\", mae_3, mse_3]]"
   ]
  },
  {
   "cell_type": "code",
   "execution_count": 46,
   "metadata": {},
   "outputs": [
    {
     "data": {
      "text/html": [
       "<div>\n",
       "<style scoped>\n",
       "    .dataframe tbody tr th:only-of-type {\n",
       "        vertical-align: middle;\n",
       "    }\n",
       "\n",
       "    .dataframe tbody tr th {\n",
       "        vertical-align: top;\n",
       "    }\n",
       "\n",
       "    .dataframe thead th {\n",
       "        text-align: right;\n",
       "    }\n",
       "</style>\n",
       "<table border=\"1\" class=\"dataframe\">\n",
       "  <thead>\n",
       "    <tr style=\"text-align: right;\">\n",
       "      <th></th>\n",
       "      <th>model</th>\n",
       "      <th>mae</th>\n",
       "      <th>mse</th>\n",
       "    </tr>\n",
       "  </thead>\n",
       "  <tbody>\n",
       "    <tr>\n",
       "      <th>0</th>\n",
       "      <td>model_1</td>\n",
       "      <td>21.273703</td>\n",
       "      <td>456.007416</td>\n",
       "    </tr>\n",
       "    <tr>\n",
       "      <th>1</th>\n",
       "      <td>model_2</td>\n",
       "      <td>3.139012</td>\n",
       "      <td>12.669317</td>\n",
       "    </tr>\n",
       "    <tr>\n",
       "      <th>2</th>\n",
       "      <td>model_3</td>\n",
       "      <td>68.415672</td>\n",
       "      <td>4766.468750</td>\n",
       "    </tr>\n",
       "  </tbody>\n",
       "</table>\n",
       "</div>"
      ],
      "text/plain": [
       "     model        mae          mse\n",
       "0  model_1  21.273703   456.007416\n",
       "1  model_2   3.139012    12.669317\n",
       "2  model_3  68.415672  4766.468750"
      ]
     },
     "execution_count": 46,
     "metadata": {},
     "output_type": "execute_result"
    }
   ],
   "source": [
    "import pandas as pd\n",
    "\n",
    "all_results = pd.DataFrame(model_results, columns=[\"model\", \"mae\", \"mse\"])\n",
    "all_results"
   ]
  },
  {
   "attachments": {},
   "cell_type": "markdown",
   "metadata": {},
   "source": [
    "From our experiments, it looks like **model_2** performed the best\n"
   ]
  },
  {
   "attachments": {},
   "cell_type": "markdown",
   "metadata": {},
   "source": [
    "## Saving a model\n",
    "\n",
    "We have 2 ways to save a model in TensorFlow\n",
    "\n",
    "1. The <a href=\"https://www.tensorflow.org/tutorials/keras/save_and_load?hl=tr#savedmodel_format\">SavedModel Format</a> (default). \n",
    "2. <a href=\"https://www.tensorflow.org/tutorials/keras/save_and_load?hl=tr#hdf5_format\">The HDF5 format</a>."
   ]
  },
  {
   "cell_type": "code",
   "execution_count": 47,
   "metadata": {},
   "outputs": [
    {
     "name": "stderr",
     "output_type": "stream",
     "text": [
      "WARNING:absl:Found untraced functions such as _update_step_xla while saving (showing 1 of 1). These functions will not be directly callable after loading.\n"
     ]
    },
    {
     "name": "stdout",
     "output_type": "stream",
     "text": [
      "INFO:tensorflow:Assets written to: best_model_SavedModel_format\\assets\n"
     ]
    },
    {
     "name": "stderr",
     "output_type": "stream",
     "text": [
      "INFO:tensorflow:Assets written to: best_model_SavedModel_format\\assets\n"
     ]
    }
   ],
   "source": [
    "# Save a model using the SavedModel format\n",
    "model_2.save(\"best_model_SavedModel_format\")"
   ]
  },
  {
   "cell_type": "code",
   "execution_count": 49,
   "metadata": {},
   "outputs": [
    {
     "name": "stdout",
     "output_type": "stream",
     "text": [
      " Volume in drive C is Windows\n",
      " Volume Serial Number is 78A1-A073\n",
      "\n",
      " Directory of c:\\Programing\\AI\\best_model_SavedModel_format\n",
      "\n",
      "08.06.2023  12:53    <DIR>          .\n",
      "08.06.2023  12:53    <DIR>          ..\n",
      "08.06.2023  12:53    <DIR>          assets\n",
      "08.06.2023  12:53                57 fingerprint.pb\n",
      "08.06.2023  12:53             6.306 keras_metadata.pb\n",
      "08.06.2023  12:53            71.033 saved_model.pb\n",
      "08.06.2023  12:53    <DIR>          variables\n",
      "               3 File(s)         77.396 bytes\n",
      "               4 Dir(s)  376.005.738.496 bytes free\n"
     ]
    }
   ],
   "source": [
    "# Check it out - outputs a protobuf binary file (.pb) as well as other files\n",
    "!dir best_model_SavedModel_format ## for unix use !ls, (I use windows)"
   ]
  },
  {
   "attachments": {},
   "cell_type": "markdown",
   "metadata": {},
   "source": [
    "Now let's save the model in the HDF5 format, we'll use the same method but with a different filename."
   ]
  },
  {
   "cell_type": "code",
   "execution_count": 50,
   "metadata": {},
   "outputs": [],
   "source": [
    "# Save a model using the HDF5 format\n",
    "\n",
    "model_2.save(\"best_model_HDF5_format.h5\")"
   ]
  },
  {
   "cell_type": "code",
   "execution_count": 51,
   "metadata": {},
   "outputs": [
    {
     "name": "stdout",
     "output_type": "stream",
     "text": [
      " Volume in drive C is Windows\n",
      " Volume Serial Number is 78A1-A073\n",
      "\n",
      " Directory of c:\\Programing\\AI\n",
      "\n",
      "08.06.2023  12:55            21.952 best_model_HDF5_format.h5\n",
      "               1 File(s)         21.952 bytes\n",
      "               0 Dir(s)  375.948.468.224 bytes free\n"
     ]
    }
   ],
   "source": [
    "# Check it out\n",
    "!dir best_model_HDF5_format.h5"
   ]
  },
  {
   "attachments": {},
   "cell_type": "markdown",
   "metadata": {},
   "source": [
    "## Loading a model\n",
    "\n",
    "We can load a saved model using the **load_model()** method.\n",
    "\n",
    "Loading a model for the different formats(SavedModel and HDF5) is same (as long as the pathnames to the particular formats are correct)."
   ]
  },
  {
   "cell_type": "code",
   "execution_count": 52,
   "metadata": {},
   "outputs": [
    {
     "name": "stdout",
     "output_type": "stream",
     "text": [
      "Model: \"sequential_5\"\n",
      "_________________________________________________________________\n",
      " Layer (type)                Output Shape              Param #   \n",
      "=================================================================\n",
      " dense_5 (Dense)             (None, 1)                 2         \n",
      "                                                                 \n",
      " dense_6 (Dense)             (None, 1)                 2         \n",
      "                                                                 \n",
      "=================================================================\n",
      "Total params: 4\n",
      "Trainable params: 4\n",
      "Non-trainable params: 0\n",
      "_________________________________________________________________\n"
     ]
    }
   ],
   "source": [
    "loaded_saved_model = tf.keras.models.load_model(\"best_model_SavedModel_format\")\n",
    "loaded_saved_model.summary()"
   ]
  },
  {
   "attachments": {},
   "cell_type": "markdown",
   "metadata": {},
   "source": [
    "Now let's test it out"
   ]
  },
  {
   "cell_type": "code",
   "execution_count": 53,
   "metadata": {},
   "outputs": [
    {
     "name": "stdout",
     "output_type": "stream",
     "text": [
      "1/1 [==============================] - 0s 20ms/step\n",
      "1/1 [==============================] - 0s 28ms/step\n"
     ]
    },
    {
     "data": {
      "text/plain": [
       "True"
      ]
     },
     "execution_count": 53,
     "metadata": {},
     "output_type": "execute_result"
    }
   ],
   "source": [
    "# Compare model_2 with the SavedModel version (should return True)\n",
    "\n",
    "model_2_preds = model_2.predict(X_test)\n",
    "saved_model_preds = loaded_saved_model.predict(X_test)\n",
    "model_2_preds == saved_model_preds\n",
    "mae(y_test, model_2_preds.squeeze()).numpy() == mae(y_test, saved_model_preds.squeeze()).numpy()"
   ]
  },
  {
   "attachments": {},
   "cell_type": "markdown",
   "metadata": {},
   "source": [
    "Loading in from the HDF5 is much the same."
   ]
  },
  {
   "cell_type": "code",
   "execution_count": 54,
   "metadata": {},
   "outputs": [
    {
     "name": "stdout",
     "output_type": "stream",
     "text": [
      "Model: \"sequential_5\"\n",
      "_________________________________________________________________\n",
      " Layer (type)                Output Shape              Param #   \n",
      "=================================================================\n",
      " dense_5 (Dense)             (None, 1)                 2         \n",
      "                                                                 \n",
      " dense_6 (Dense)             (None, 1)                 2         \n",
      "                                                                 \n",
      "=================================================================\n",
      "Total params: 4\n",
      "Trainable params: 4\n",
      "Non-trainable params: 0\n",
      "_________________________________________________________________\n"
     ]
    }
   ],
   "source": [
    "# Load in a model using the HDF5 format\n",
    "\n",
    "loaded_h5_model = tf.keras.models.load_model(\"best_model_HDF5_format.h5\")\n",
    "loaded_h5_model.summary()"
   ]
  },
  {
   "cell_type": "code",
   "execution_count": 55,
   "metadata": {},
   "outputs": [
    {
     "name": "stdout",
     "output_type": "stream",
     "text": [
      "1/1 [==============================] - 0s 27ms/step\n"
     ]
    },
    {
     "data": {
      "text/plain": [
       "True"
      ]
     },
     "execution_count": 55,
     "metadata": {},
     "output_type": "execute_result"
    }
   ],
   "source": [
    "# Compare model_2 with the loaded HDF5 version (should return True)\n",
    "\n",
    "h5_model_preds = loaded_h5_model.predict(X_test)\n",
    "model_2_preds == h5_model_preds\n",
    "mae(y_test, model_2_preds.squeeze()).numpy() == mae(y_test, h5_model_preds.squeeze()).numpy()"
   ]
  },
  {
   "attachments": {},
   "cell_type": "markdown",
   "metadata": {},
   "source": [
    "## Downloading a model (from Google Colab)"
   ]
  },
  {
   "attachments": {},
   "cell_type": "markdown",
   "metadata": {},
   "source": [
    "Say you wanted to get your model from Google Colab to your local machine, you can do one of the following things:\n",
    "\n",
    "- Right click on the file in the files pane and click \"download\".\n",
    "- Use the Code below."
   ]
  },
  {
   "cell_type": "code",
   "execution_count": null,
   "metadata": {},
   "outputs": [],
   "source": [
    "# Download the model (or any file) from Google Colab\n",
    "from google.colab import files\n",
    "files.download(\"best_model_HDF5_format.h5\")"
   ]
  },
  {
   "attachments": {},
   "cell_type": "markdown",
   "metadata": {},
   "source": [
    "## A larger example"
   ]
  },
  {
   "cell_type": "code",
   "execution_count": 78,
   "metadata": {},
   "outputs": [],
   "source": [
    "insurance = pd.read_csv(\"https://raw.githubusercontent.com/stedy/Machine-Learning-with-R-datasets/master/insurance.csv\")"
   ]
  },
  {
   "cell_type": "code",
   "execution_count": 79,
   "metadata": {},
   "outputs": [
    {
     "data": {
      "text/html": [
       "<div>\n",
       "<style scoped>\n",
       "    .dataframe tbody tr th:only-of-type {\n",
       "        vertical-align: middle;\n",
       "    }\n",
       "\n",
       "    .dataframe tbody tr th {\n",
       "        vertical-align: top;\n",
       "    }\n",
       "\n",
       "    .dataframe thead th {\n",
       "        text-align: right;\n",
       "    }\n",
       "</style>\n",
       "<table border=\"1\" class=\"dataframe\">\n",
       "  <thead>\n",
       "    <tr style=\"text-align: right;\">\n",
       "      <th></th>\n",
       "      <th>age</th>\n",
       "      <th>sex</th>\n",
       "      <th>bmi</th>\n",
       "      <th>children</th>\n",
       "      <th>smoker</th>\n",
       "      <th>region</th>\n",
       "      <th>charges</th>\n",
       "    </tr>\n",
       "  </thead>\n",
       "  <tbody>\n",
       "    <tr>\n",
       "      <th>0</th>\n",
       "      <td>19</td>\n",
       "      <td>female</td>\n",
       "      <td>27.900</td>\n",
       "      <td>0</td>\n",
       "      <td>yes</td>\n",
       "      <td>southwest</td>\n",
       "      <td>16884.92400</td>\n",
       "    </tr>\n",
       "    <tr>\n",
       "      <th>1</th>\n",
       "      <td>18</td>\n",
       "      <td>male</td>\n",
       "      <td>33.770</td>\n",
       "      <td>1</td>\n",
       "      <td>no</td>\n",
       "      <td>southeast</td>\n",
       "      <td>1725.55230</td>\n",
       "    </tr>\n",
       "    <tr>\n",
       "      <th>2</th>\n",
       "      <td>28</td>\n",
       "      <td>male</td>\n",
       "      <td>33.000</td>\n",
       "      <td>3</td>\n",
       "      <td>no</td>\n",
       "      <td>southeast</td>\n",
       "      <td>4449.46200</td>\n",
       "    </tr>\n",
       "    <tr>\n",
       "      <th>3</th>\n",
       "      <td>33</td>\n",
       "      <td>male</td>\n",
       "      <td>22.705</td>\n",
       "      <td>0</td>\n",
       "      <td>no</td>\n",
       "      <td>northwest</td>\n",
       "      <td>21984.47061</td>\n",
       "    </tr>\n",
       "    <tr>\n",
       "      <th>4</th>\n",
       "      <td>32</td>\n",
       "      <td>male</td>\n",
       "      <td>28.880</td>\n",
       "      <td>0</td>\n",
       "      <td>no</td>\n",
       "      <td>northwest</td>\n",
       "      <td>3866.85520</td>\n",
       "    </tr>\n",
       "  </tbody>\n",
       "</table>\n",
       "</div>"
      ],
      "text/plain": [
       "   age     sex     bmi  children smoker     region      charges\n",
       "0   19  female  27.900         0    yes  southwest  16884.92400\n",
       "1   18    male  33.770         1     no  southeast   1725.55230\n",
       "2   28    male  33.000         3     no  southeast   4449.46200\n",
       "3   33    male  22.705         0     no  northwest  21984.47061\n",
       "4   32    male  28.880         0     no  northwest   3866.85520"
      ]
     },
     "execution_count": 79,
     "metadata": {},
     "output_type": "execute_result"
    }
   ],
   "source": [
    "insurance.head()"
   ]
  },
  {
   "cell_type": "code",
   "execution_count": 80,
   "metadata": {},
   "outputs": [
    {
     "data": {
      "text/html": [
       "<div>\n",
       "<style scoped>\n",
       "    .dataframe tbody tr th:only-of-type {\n",
       "        vertical-align: middle;\n",
       "    }\n",
       "\n",
       "    .dataframe tbody tr th {\n",
       "        vertical-align: top;\n",
       "    }\n",
       "\n",
       "    .dataframe thead th {\n",
       "        text-align: right;\n",
       "    }\n",
       "</style>\n",
       "<table border=\"1\" class=\"dataframe\">\n",
       "  <thead>\n",
       "    <tr style=\"text-align: right;\">\n",
       "      <th></th>\n",
       "      <th>age</th>\n",
       "      <th>bmi</th>\n",
       "      <th>children</th>\n",
       "      <th>charges</th>\n",
       "      <th>sex_female</th>\n",
       "      <th>sex_male</th>\n",
       "      <th>smoker_no</th>\n",
       "      <th>smoker_yes</th>\n",
       "      <th>region_northeast</th>\n",
       "      <th>region_northwest</th>\n",
       "      <th>region_southeast</th>\n",
       "      <th>region_southwest</th>\n",
       "    </tr>\n",
       "  </thead>\n",
       "  <tbody>\n",
       "    <tr>\n",
       "      <th>0</th>\n",
       "      <td>19</td>\n",
       "      <td>27.900</td>\n",
       "      <td>0</td>\n",
       "      <td>16884.92400</td>\n",
       "      <td>True</td>\n",
       "      <td>False</td>\n",
       "      <td>False</td>\n",
       "      <td>True</td>\n",
       "      <td>False</td>\n",
       "      <td>False</td>\n",
       "      <td>False</td>\n",
       "      <td>True</td>\n",
       "    </tr>\n",
       "    <tr>\n",
       "      <th>1</th>\n",
       "      <td>18</td>\n",
       "      <td>33.770</td>\n",
       "      <td>1</td>\n",
       "      <td>1725.55230</td>\n",
       "      <td>False</td>\n",
       "      <td>True</td>\n",
       "      <td>True</td>\n",
       "      <td>False</td>\n",
       "      <td>False</td>\n",
       "      <td>False</td>\n",
       "      <td>True</td>\n",
       "      <td>False</td>\n",
       "    </tr>\n",
       "    <tr>\n",
       "      <th>2</th>\n",
       "      <td>28</td>\n",
       "      <td>33.000</td>\n",
       "      <td>3</td>\n",
       "      <td>4449.46200</td>\n",
       "      <td>False</td>\n",
       "      <td>True</td>\n",
       "      <td>True</td>\n",
       "      <td>False</td>\n",
       "      <td>False</td>\n",
       "      <td>False</td>\n",
       "      <td>True</td>\n",
       "      <td>False</td>\n",
       "    </tr>\n",
       "    <tr>\n",
       "      <th>3</th>\n",
       "      <td>33</td>\n",
       "      <td>22.705</td>\n",
       "      <td>0</td>\n",
       "      <td>21984.47061</td>\n",
       "      <td>False</td>\n",
       "      <td>True</td>\n",
       "      <td>True</td>\n",
       "      <td>False</td>\n",
       "      <td>False</td>\n",
       "      <td>True</td>\n",
       "      <td>False</td>\n",
       "      <td>False</td>\n",
       "    </tr>\n",
       "    <tr>\n",
       "      <th>4</th>\n",
       "      <td>32</td>\n",
       "      <td>28.880</td>\n",
       "      <td>0</td>\n",
       "      <td>3866.85520</td>\n",
       "      <td>False</td>\n",
       "      <td>True</td>\n",
       "      <td>True</td>\n",
       "      <td>False</td>\n",
       "      <td>False</td>\n",
       "      <td>True</td>\n",
       "      <td>False</td>\n",
       "      <td>False</td>\n",
       "    </tr>\n",
       "  </tbody>\n",
       "</table>\n",
       "</div>"
      ],
      "text/plain": [
       "   age     bmi  children      charges  sex_female  sex_male  smoker_no  \\\n",
       "0   19  27.900         0  16884.92400        True     False      False   \n",
       "1   18  33.770         1   1725.55230       False      True       True   \n",
       "2   28  33.000         3   4449.46200       False      True       True   \n",
       "3   33  22.705         0  21984.47061       False      True       True   \n",
       "4   32  28.880         0   3866.85520       False      True       True   \n",
       "\n",
       "   smoker_yes  region_northeast  region_northwest  region_southeast  \\\n",
       "0        True             False             False             False   \n",
       "1       False             False             False              True   \n",
       "2       False             False             False              True   \n",
       "3       False             False              True             False   \n",
       "4       False             False              True             False   \n",
       "\n",
       "   region_southwest  \n",
       "0              True  \n",
       "1             False  \n",
       "2             False  \n",
       "3             False  \n",
       "4             False  "
      ]
     },
     "execution_count": 80,
     "metadata": {},
     "output_type": "execute_result"
    }
   ],
   "source": [
    "# Turn all categories into numbers\n",
    "insurance_one_hot = pd.get_dummies(insurance)\n",
    "insurance_one_hot.head() # view the converted columns"
   ]
  },
  {
   "cell_type": "code",
   "execution_count": 81,
   "metadata": {},
   "outputs": [],
   "source": [
    "# Create X & y values\n",
    "X = insurance_one_hot.drop(\"charges\", axis=1)\n",
    "y = insurance_one_hot[\"charges\"]"
   ]
  },
  {
   "cell_type": "code",
   "execution_count": 82,
   "metadata": {},
   "outputs": [
    {
     "data": {
      "text/html": [
       "<div>\n",
       "<style scoped>\n",
       "    .dataframe tbody tr th:only-of-type {\n",
       "        vertical-align: middle;\n",
       "    }\n",
       "\n",
       "    .dataframe tbody tr th {\n",
       "        vertical-align: top;\n",
       "    }\n",
       "\n",
       "    .dataframe thead th {\n",
       "        text-align: right;\n",
       "    }\n",
       "</style>\n",
       "<table border=\"1\" class=\"dataframe\">\n",
       "  <thead>\n",
       "    <tr style=\"text-align: right;\">\n",
       "      <th></th>\n",
       "      <th>age</th>\n",
       "      <th>bmi</th>\n",
       "      <th>children</th>\n",
       "      <th>sex_female</th>\n",
       "      <th>sex_male</th>\n",
       "      <th>smoker_no</th>\n",
       "      <th>smoker_yes</th>\n",
       "      <th>region_northeast</th>\n",
       "      <th>region_northwest</th>\n",
       "      <th>region_southeast</th>\n",
       "      <th>region_southwest</th>\n",
       "    </tr>\n",
       "  </thead>\n",
       "  <tbody>\n",
       "    <tr>\n",
       "      <th>0</th>\n",
       "      <td>19</td>\n",
       "      <td>27.900</td>\n",
       "      <td>0</td>\n",
       "      <td>True</td>\n",
       "      <td>False</td>\n",
       "      <td>False</td>\n",
       "      <td>True</td>\n",
       "      <td>False</td>\n",
       "      <td>False</td>\n",
       "      <td>False</td>\n",
       "      <td>True</td>\n",
       "    </tr>\n",
       "    <tr>\n",
       "      <th>1</th>\n",
       "      <td>18</td>\n",
       "      <td>33.770</td>\n",
       "      <td>1</td>\n",
       "      <td>False</td>\n",
       "      <td>True</td>\n",
       "      <td>True</td>\n",
       "      <td>False</td>\n",
       "      <td>False</td>\n",
       "      <td>False</td>\n",
       "      <td>True</td>\n",
       "      <td>False</td>\n",
       "    </tr>\n",
       "    <tr>\n",
       "      <th>2</th>\n",
       "      <td>28</td>\n",
       "      <td>33.000</td>\n",
       "      <td>3</td>\n",
       "      <td>False</td>\n",
       "      <td>True</td>\n",
       "      <td>True</td>\n",
       "      <td>False</td>\n",
       "      <td>False</td>\n",
       "      <td>False</td>\n",
       "      <td>True</td>\n",
       "      <td>False</td>\n",
       "    </tr>\n",
       "    <tr>\n",
       "      <th>3</th>\n",
       "      <td>33</td>\n",
       "      <td>22.705</td>\n",
       "      <td>0</td>\n",
       "      <td>False</td>\n",
       "      <td>True</td>\n",
       "      <td>True</td>\n",
       "      <td>False</td>\n",
       "      <td>False</td>\n",
       "      <td>True</td>\n",
       "      <td>False</td>\n",
       "      <td>False</td>\n",
       "    </tr>\n",
       "    <tr>\n",
       "      <th>4</th>\n",
       "      <td>32</td>\n",
       "      <td>28.880</td>\n",
       "      <td>0</td>\n",
       "      <td>False</td>\n",
       "      <td>True</td>\n",
       "      <td>True</td>\n",
       "      <td>False</td>\n",
       "      <td>False</td>\n",
       "      <td>True</td>\n",
       "      <td>False</td>\n",
       "      <td>False</td>\n",
       "    </tr>\n",
       "  </tbody>\n",
       "</table>\n",
       "</div>"
      ],
      "text/plain": [
       "   age     bmi  children  sex_female  sex_male  smoker_no  smoker_yes  \\\n",
       "0   19  27.900         0        True     False      False        True   \n",
       "1   18  33.770         1       False      True       True       False   \n",
       "2   28  33.000         3       False      True       True       False   \n",
       "3   33  22.705         0       False      True       True       False   \n",
       "4   32  28.880         0       False      True       True       False   \n",
       "\n",
       "   region_northeast  region_northwest  region_southeast  region_southwest  \n",
       "0             False             False             False              True  \n",
       "1             False             False              True             False  \n",
       "2             False             False              True             False  \n",
       "3             False              True             False             False  \n",
       "4             False              True             False             False  "
      ]
     },
     "execution_count": 82,
     "metadata": {},
     "output_type": "execute_result"
    }
   ],
   "source": [
    "# View features\n",
    "X.head()"
   ]
  },
  {
   "cell_type": "code",
   "execution_count": 110,
   "metadata": {},
   "outputs": [],
   "source": [
    "# Create training and test sets\n",
    "from sklearn.model_selection import train_test_split\n",
    "\n",
    "X_train, X_test, y_train, y_test = train_test_split(X,\n",
    "                                                    y,\n",
    "                                                    test_size=0.2,\n",
    "                                                    random_state=42)\n",
    "                                                    "
   ]
  },
  {
   "attachments": {},
   "cell_type": "markdown",
   "metadata": {},
   "source": [
    "Now we can build and fit a model (well make it the same as **model_2**)"
   ]
  },
  {
   "cell_type": "code",
   "execution_count": 99,
   "metadata": {},
   "outputs": [
    {
     "name": "stdout",
     "output_type": "stream",
     "text": [
      "Epoch 1/100\n",
      "34/34 [==============================] - 0s 692us/step - loss: 8713.6191 - mae: 8713.6191\n",
      "Epoch 2/100\n",
      "34/34 [==============================] - 0s 729us/step - loss: 7854.4702 - mae: 7854.4702\n",
      "Epoch 3/100\n",
      "34/34 [==============================] - 0s 652us/step - loss: 7611.2134 - mae: 7611.2134\n",
      "Epoch 4/100\n",
      "34/34 [==============================] - 0s 667us/step - loss: 7687.1533 - mae: 7687.1533\n",
      "Epoch 5/100\n",
      "34/34 [==============================] - 0s 667us/step - loss: 7674.3643 - mae: 7674.3643\n",
      "Epoch 6/100\n",
      "34/34 [==============================] - 0s 667us/step - loss: 7615.3184 - mae: 7615.3184\n",
      "Epoch 7/100\n",
      "34/34 [==============================] - 0s 713us/step - loss: 7566.3887 - mae: 7566.3887\n",
      "Epoch 8/100\n",
      "34/34 [==============================] - 0s 606us/step - loss: 7756.4751 - mae: 7756.4751\n",
      "Epoch 9/100\n",
      "34/34 [==============================] - 0s 727us/step - loss: 7454.0356 - mae: 7454.0356\n",
      "Epoch 10/100\n",
      "34/34 [==============================] - 0s 667us/step - loss: 7760.0371 - mae: 7760.0371\n",
      "Epoch 11/100\n",
      "34/34 [==============================] - 0s 652us/step - loss: 7440.1221 - mae: 7440.1221\n",
      "Epoch 12/100\n",
      "34/34 [==============================] - 0s 662us/step - loss: 7651.1162 - mae: 7651.1162\n",
      "Epoch 13/100\n",
      "34/34 [==============================] - 0s 636us/step - loss: 7672.3022 - mae: 7672.3022\n",
      "Epoch 14/100\n",
      "34/34 [==============================] - 0s 637us/step - loss: 7701.4038 - mae: 7701.4038\n",
      "Epoch 15/100\n",
      "34/34 [==============================] - 0s 713us/step - loss: 7427.6377 - mae: 7427.6377\n",
      "Epoch 16/100\n",
      "34/34 [==============================] - 0s 606us/step - loss: 7773.0498 - mae: 7773.0498\n",
      "Epoch 17/100\n",
      "34/34 [==============================] - 0s 636us/step - loss: 7578.9824 - mae: 7578.9824\n",
      "Epoch 18/100\n",
      "34/34 [==============================] - 0s 697us/step - loss: 7768.9429 - mae: 7768.9429\n",
      "Epoch 19/100\n",
      "34/34 [==============================] - 0s 652us/step - loss: 7760.6011 - mae: 7760.6011\n",
      "Epoch 20/100\n",
      "34/34 [==============================] - 0s 606us/step - loss: 7936.6802 - mae: 7936.6812\n",
      "Epoch 21/100\n",
      "34/34 [==============================] - 0s 606us/step - loss: 7477.2744 - mae: 7477.2744\n",
      "Epoch 22/100\n",
      "34/34 [==============================] - 0s 636us/step - loss: 7855.1831 - mae: 7855.1831\n",
      "Epoch 23/100\n",
      "34/34 [==============================] - 0s 668us/step - loss: 7494.4458 - mae: 7494.4458\n",
      "Epoch 24/100\n",
      "34/34 [==============================] - 0s 667us/step - loss: 7609.8867 - mae: 7609.8867\n",
      "Epoch 25/100\n",
      "34/34 [==============================] - 0s 667us/step - loss: 7699.2148 - mae: 7699.2148\n",
      "Epoch 26/100\n",
      "34/34 [==============================] - 0s 667us/step - loss: 7719.8208 - mae: 7719.8208\n",
      "Epoch 27/100\n",
      "34/34 [==============================] - 0s 639us/step - loss: 7707.3628 - mae: 7707.3628\n",
      "Epoch 28/100\n",
      "34/34 [==============================] - 0s 636us/step - loss: 7485.2285 - mae: 7485.2285\n",
      "Epoch 29/100\n",
      "34/34 [==============================] - 0s 605us/step - loss: 7669.1533 - mae: 7669.1533\n",
      "Epoch 30/100\n",
      "34/34 [==============================] - 0s 636us/step - loss: 7628.2646 - mae: 7628.2646\n",
      "Epoch 31/100\n",
      "34/34 [==============================] - 0s 584us/step - loss: 7216.2915 - mae: 7216.2915\n",
      "Epoch 32/100\n",
      "34/34 [==============================] - 0s 644us/step - loss: 7487.2314 - mae: 7487.2314\n",
      "Epoch 33/100\n",
      "34/34 [==============================] - 0s 576us/step - loss: 7391.4468 - mae: 7391.4468\n",
      "Epoch 34/100\n",
      "34/34 [==============================] - 0s 606us/step - loss: 7510.0757 - mae: 7510.0757\n",
      "Epoch 35/100\n",
      "34/34 [==============================] - 0s 608us/step - loss: 7611.3184 - mae: 7611.3184\n",
      "Epoch 36/100\n",
      "34/34 [==============================] - 0s 605us/step - loss: 7510.8228 - mae: 7510.8228\n",
      "Epoch 37/100\n",
      "34/34 [==============================] - 0s 575us/step - loss: 7662.0527 - mae: 7662.0527\n",
      "Epoch 38/100\n",
      "34/34 [==============================] - 0s 610us/step - loss: 7548.2852 - mae: 7548.2852\n",
      "Epoch 39/100\n",
      "34/34 [==============================] - 0s 606us/step - loss: 7522.6094 - mae: 7522.6094\n",
      "Epoch 40/100\n",
      "34/34 [==============================] - 0s 784us/step - loss: 7308.4312 - mae: 7308.4312\n",
      "Epoch 41/100\n",
      "34/34 [==============================] - 0s 848us/step - loss: 7712.2495 - mae: 7712.2495\n",
      "Epoch 42/100\n",
      "34/34 [==============================] - 0s 624us/step - loss: 7520.7080 - mae: 7520.7080\n",
      "Epoch 43/100\n",
      "34/34 [==============================] - 0s 667us/step - loss: 7545.3589 - mae: 7545.3589\n",
      "Epoch 44/100\n",
      "34/34 [==============================] - 0s 653us/step - loss: 7223.9292 - mae: 7223.9292\n",
      "Epoch 45/100\n",
      "34/34 [==============================] - 0s 605us/step - loss: 7541.6143 - mae: 7541.6143\n",
      "Epoch 46/100\n",
      "34/34 [==============================] - 0s 576us/step - loss: 7640.0957 - mae: 7640.0957\n",
      "Epoch 47/100\n",
      "34/34 [==============================] - 0s 697us/step - loss: 7273.5400 - mae: 7273.5400\n",
      "Epoch 48/100\n",
      "34/34 [==============================] - 0s 621us/step - loss: 7513.6733 - mae: 7513.6733\n",
      "Epoch 49/100\n",
      "34/34 [==============================] - 0s 758us/step - loss: 7544.5029 - mae: 7544.5029\n",
      "Epoch 50/100\n",
      "34/34 [==============================] - 0s 637us/step - loss: 7498.3403 - mae: 7498.3403\n",
      "Epoch 51/100\n",
      "34/34 [==============================] - 0s 606us/step - loss: 7382.7754 - mae: 7382.7754\n",
      "Epoch 52/100\n",
      "34/34 [==============================] - 0s 619us/step - loss: 7434.1597 - mae: 7434.1597\n",
      "Epoch 53/100\n",
      "34/34 [==============================] - 0s 636us/step - loss: 7538.6030 - mae: 7538.6030\n",
      "Epoch 54/100\n",
      "34/34 [==============================] - 0s 606us/step - loss: 7238.3276 - mae: 7238.3276\n",
      "Epoch 55/100\n",
      "34/34 [==============================] - 0s 672us/step - loss: 7387.2905 - mae: 7387.2905\n",
      "Epoch 56/100\n",
      "34/34 [==============================] - 0s 653us/step - loss: 7377.1045 - mae: 7377.1045\n",
      "Epoch 57/100\n",
      "34/34 [==============================] - 0s 631us/step - loss: 7361.3989 - mae: 7361.3989\n",
      "Epoch 58/100\n",
      "34/34 [==============================] - 0s 607us/step - loss: 7601.4512 - mae: 7601.4512\n",
      "Epoch 59/100\n",
      "34/34 [==============================] - 0s 605us/step - loss: 7491.6431 - mae: 7491.6431\n",
      "Epoch 60/100\n",
      "34/34 [==============================] - 0s 576us/step - loss: 7483.1333 - mae: 7483.1333\n",
      "Epoch 61/100\n",
      "34/34 [==============================] - 0s 622us/step - loss: 7420.9785 - mae: 7420.9785\n",
      "Epoch 62/100\n",
      "34/34 [==============================] - 0s 607us/step - loss: 7442.9731 - mae: 7442.9731\n",
      "Epoch 63/100\n",
      "34/34 [==============================] - 0s 617us/step - loss: 7454.1055 - mae: 7454.1055\n",
      "Epoch 64/100\n",
      "34/34 [==============================] - 0s 697us/step - loss: 7286.2705 - mae: 7286.2705\n",
      "Epoch 65/100\n",
      "34/34 [==============================] - 0s 639us/step - loss: 7477.9316 - mae: 7477.9316\n",
      "Epoch 66/100\n",
      "34/34 [==============================] - 0s 606us/step - loss: 7286.1553 - mae: 7286.1553\n",
      "Epoch 67/100\n",
      "34/34 [==============================] - 0s 576us/step - loss: 7398.0435 - mae: 7398.0435\n",
      "Epoch 68/100\n",
      "34/34 [==============================] - 0s 697us/step - loss: 7613.8838 - mae: 7613.8838\n",
      "Epoch 69/100\n",
      "34/34 [==============================] - 0s 642us/step - loss: 7504.4058 - mae: 7504.4058\n",
      "Epoch 70/100\n",
      "34/34 [==============================] - 0s 649us/step - loss: 7679.1450 - mae: 7679.1450\n",
      "Epoch 71/100\n",
      "34/34 [==============================] - 0s 606us/step - loss: 7174.4751 - mae: 7174.4751\n",
      "Epoch 72/100\n",
      "34/34 [==============================] - 0s 625us/step - loss: 7122.8257 - mae: 7122.8257\n",
      "Epoch 73/100\n",
      "34/34 [==============================] - 0s 605us/step - loss: 7309.5381 - mae: 7309.5381\n",
      "Epoch 74/100\n",
      "34/34 [==============================] - 0s 622us/step - loss: 7510.8301 - mae: 7510.8301\n",
      "Epoch 75/100\n",
      "34/34 [==============================] - 0s 577us/step - loss: 7272.0952 - mae: 7272.0952\n",
      "Epoch 76/100\n",
      "34/34 [==============================] - 0s 638us/step - loss: 7149.4854 - mae: 7149.4854\n",
      "Epoch 77/100\n",
      "34/34 [==============================] - 0s 607us/step - loss: 7439.0957 - mae: 7439.0957\n",
      "Epoch 78/100\n",
      "34/34 [==============================] - 0s 652us/step - loss: 7061.6851 - mae: 7061.6851\n",
      "Epoch 79/100\n",
      "34/34 [==============================] - 0s 606us/step - loss: 7492.7783 - mae: 7492.7783\n",
      "Epoch 80/100\n",
      "34/34 [==============================] - 0s 636us/step - loss: 7382.2456 - mae: 7382.2456\n",
      "Epoch 81/100\n",
      "34/34 [==============================] - 0s 636us/step - loss: 7269.1587 - mae: 7269.1587\n",
      "Epoch 82/100\n",
      "34/34 [==============================] - 0s 592us/step - loss: 7222.5347 - mae: 7222.5347\n",
      "Epoch 83/100\n",
      "34/34 [==============================] - 0s 576us/step - loss: 7254.3828 - mae: 7254.3828\n",
      "Epoch 84/100\n",
      "34/34 [==============================] - 0s 619us/step - loss: 7417.1045 - mae: 7417.1045\n",
      "Epoch 85/100\n",
      "34/34 [==============================] - 0s 741us/step - loss: 7320.2197 - mae: 7320.2197\n",
      "Epoch 86/100\n",
      "34/34 [==============================] - 0s 637us/step - loss: 7408.6685 - mae: 7408.6685\n",
      "Epoch 87/100\n",
      "34/34 [==============================] - 0s 643us/step - loss: 7292.5596 - mae: 7292.5596\n",
      "Epoch 88/100\n",
      "34/34 [==============================] - 0s 647us/step - loss: 7308.8311 - mae: 7308.8311\n",
      "Epoch 89/100\n",
      "34/34 [==============================] - 0s 712us/step - loss: 7261.0903 - mae: 7261.0903\n",
      "Epoch 90/100\n",
      "34/34 [==============================] - 0s 636us/step - loss: 7059.9556 - mae: 7059.9556\n",
      "Epoch 91/100\n",
      "34/34 [==============================] - 0s 637us/step - loss: 7031.0264 - mae: 7031.0264\n",
      "Epoch 92/100\n",
      "34/34 [==============================] - 0s 636us/step - loss: 7299.6460 - mae: 7299.6460\n",
      "Epoch 93/100\n",
      "34/34 [==============================] - 0s 667us/step - loss: 7444.7075 - mae: 7444.7075\n",
      "Epoch 94/100\n",
      "34/34 [==============================] - 0s 585us/step - loss: 7081.9604 - mae: 7081.9604\n",
      "Epoch 95/100\n",
      "34/34 [==============================] - 0s 682us/step - loss: 7328.0908 - mae: 7328.0908\n",
      "Epoch 96/100\n",
      "34/34 [==============================] - 0s 608us/step - loss: 7176.4966 - mae: 7176.4966\n",
      "Epoch 97/100\n",
      "34/34 [==============================] - 0s 606us/step - loss: 7120.7983 - mae: 7120.7983\n",
      "Epoch 98/100\n",
      "34/34 [==============================] - 0s 612us/step - loss: 7508.4688 - mae: 7508.4688\n",
      "Epoch 99/100\n",
      "34/34 [==============================] - 0s 743us/step - loss: 7300.2964 - mae: 7300.2964\n",
      "Epoch 100/100\n",
      "34/34 [==============================] - 0s 612us/step - loss: 7405.0591 - mae: 7405.0591\n"
     ]
    },
    {
     "data": {
      "text/plain": [
       "<keras.callbacks.History at 0x1951e000510>"
      ]
     },
     "execution_count": 99,
     "metadata": {},
     "output_type": "execute_result"
    }
   ],
   "source": [
    "# Set random seed\n",
    "tf.random.set_seed(42)\n",
    "\n",
    "# Create a new model (same as model_2)\n",
    "insurance_model = tf.keras.Sequential([\n",
    "  tf.keras.layers.Dense(1),\n",
    "  tf.keras.layers.Dense(1)\n",
    "])\n",
    "\n",
    "# Compile the model\n",
    "insurance_model.compile(loss=tf.keras.losses.mae,\n",
    "                        optimizer=tf.keras.optimizers.SGD(),\n",
    "                        metrics=['mae'])\n",
    "\n",
    "# Convert input data to floats\n",
    "X_train = X_train.astype('float32')\n",
    "y_train = y_train.astype('float32')\n",
    "\n",
    "# Fit the model\n",
    "insurance_model.fit(X_train.values, y_train.values, epochs=100)\n"
   ]
  },
  {
   "cell_type": "code",
   "execution_count": 105,
   "metadata": {},
   "outputs": [
    {
     "name": "stdout",
     "output_type": "stream",
     "text": [
      "9/9 [==============================] - 0s 753us/step - loss: 7110.6885 - mae: 7110.6885\n"
     ]
    },
    {
     "data": {
      "text/plain": [
       "[7110.6884765625, 7110.6884765625]"
      ]
     },
     "execution_count": 105,
     "metadata": {},
     "output_type": "execute_result"
    }
   ],
   "source": [
    "# Check the results of the insurance model on the test data\n",
    "# Convert input data to floats\n",
    "X_test = X_test.astype('float32')\n",
    "y_test = y_test.astype('float32')\n",
    "\n",
    "# Evaluate the model on the test data\n",
    "insurance_model.evaluate(X_test, y_test)"
   ]
  },
  {
   "cell_type": "code",
   "execution_count": 116,
   "metadata": {},
   "outputs": [],
   "source": [
    "tf.random.set_seed(42)\n",
    "\n",
    "# Add an extra layer & increase number of hidden units in each layer\n",
    "insurance_model_2 = tf.keras.Sequential([\n",
    "    tf.keras.layers.Dense(100),\n",
    "    tf.keras.layers.Dense(10),\n",
    "    tf.keras.layers.Dense(1)\n",
    "])\n",
    "\n",
    "# Compile the model\n",
    "insurance_model_2.compile(loss=tf.keras.losses.mae,\n",
    "                            optimizer=tf.keras.optimizers.Adam(),\n",
    "                            metrics=['mae'])\n",
    "\n",
    "# Convert input data to NumPy arrays\n",
    "X_train = X_train.astype('float32')\n",
    "y_train = y_train.astype('float32')\n",
    "\n",
    "# Fit the model\n",
    "history = insurance_model_2.fit(X_train.values, y_train.values, epochs=100, verbose=0)"
   ]
  },
  {
   "cell_type": "code",
   "execution_count": 117,
   "metadata": {},
   "outputs": [
    {
     "name": "stdout",
     "output_type": "stream",
     "text": [
      "9/9 [==============================] - 0s 750us/step - loss: 4924.6553 - mae: 4924.6553\n"
     ]
    },
    {
     "data": {
      "text/plain": [
       "[4924.6552734375, 4924.6552734375]"
      ]
     },
     "execution_count": 117,
     "metadata": {},
     "output_type": "execute_result"
    }
   ],
   "source": [
    "insurance_model_2.evaluate(X_test.astype('float32').values, y_test.astype('float32').values)\n"
   ]
  },
  {
   "cell_type": "code",
   "execution_count": 118,
   "metadata": {},
   "outputs": [
    {
     "data": {
      "text/plain": [
       "Text(0.5, 0, 'epochs')"
      ]
     },
     "execution_count": 118,
     "metadata": {},
     "output_type": "execute_result"
    },
    {
     "data": {
      "image/png": "[encoded data removed]",
      "text/plain": [
       "<Figure size 640x480 with 1 Axes>"
      ]
     },
     "metadata": {},
     "output_type": "display_data"
    }
   ],
   "source": [
    "# Plot history ( also known as a loss curve or a training curve)\n",
    "\n",
    "pd.DataFrame(history.history).plot()\n",
    "plt.ylabel(\"loss\")\n",
    "plt.xlabel(\"epochs\")"
   ]
  },
  {
   "cell_type": "code",
   "execution_count": 120,
   "metadata": {},
   "outputs": [],
   "source": [
    "# Try training for a little longer (100 more epochs)\n",
    "history_2 = insurance_model_2.fit(X_train.values, y_train.values, epochs=100, verbose=0)"
   ]
  },
  {
   "cell_type": "code",
   "execution_count": 121,
   "metadata": {},
   "outputs": [
    {
     "name": "stdout",
     "output_type": "stream",
     "text": [
      "9/9 [==============================] - 0s 1ms/step - loss: 3497.4714 - mae: 3497.4714\n"
     ]
    },
    {
     "data": {
      "text/plain": [
       "(3497.471435546875, 3497.471435546875)"
      ]
     },
     "execution_count": 121,
     "metadata": {},
     "output_type": "execute_result"
    }
   ],
   "source": [
    "insurance_model_2_loss, insurance_model_2_mae = insurance_model_2.evaluate(X_test.astype('float32').values, y_test.astype('float32').values)\n",
    "insurance_model_2_loss, insurance_model_2_mae"
   ]
  },
  {
   "cell_type": "code",
   "execution_count": 122,
   "metadata": {},
   "outputs": [
    {
     "data": {
      "text/plain": [
       "Text(0.5, 0, 'epochs')"
      ]
     },
     "execution_count": 122,
     "metadata": {},
     "output_type": "execute_result"
    },
    {
     "data": {
      "image/png": "[encoded data removed]",
      "text/plain": [
       "<Figure size 640x480 with 1 Axes>"
      ]
     },
     "metadata": {},
     "output_type": "display_data"
    }
   ],
   "source": [
    "# Plot the model trained for 200 total epochs loss curves\n",
    "pd.DataFrame(history_2.history).plot()\n",
    "plt.ylabel(\"loss\")\n",
    "plt.xlabel(\"epochs\")"
   ]
  },
  {
   "attachments": {},
   "cell_type": "markdown",
   "metadata": {},
   "source": [
    "## Preprocessing data (normalization and standardization)\n",
    "\n",
    "A common practice when working with neural networks is to make sure all of the data you pass to them is in the range 0 to 1.\n",
    "\n",
    "This practice is called **normalization** (scaling all values from their original range to, e.g. between 0 and 100,000 to be between 0 and 1).\n",
    "\n",
    "There is another process call **standardization** which converts all of your data to unit variance and 0 mean.\n",
    "\n",
    "These two practices are often part of a preprocessing pipeline (a series of functions to prepare your data for use with neural networks).\n",
    "\n",
    "Knowing this, some of the major steps you'll take to preprocess your data for a neural network include:\n",
    "\n",
    "- Turning all of your data to numbers (a neural network can't handle strings).\n",
    "\n",
    "- Making sure your data is in the right shape (verifying input and output shapes).\n",
    "\n",
    "- Feature scaling:\n",
    "    - Normalizing data (making sure all values are between 0 and 1). This is done by subtracting the minimum value then dividing by the maximum value minus the minimum. This is also referred to as min-max scaling.\n",
    "\n",
    "    - Standardization (making sure all values have a mean of 0 and a variance of 1). This is done by subtracting the mean value from the target feature and then dividing it by the standard deviation.\n",
    "\n",
    "    - With neural networks you'll tend to favour normalization as they tend to prefer values between 0 and 1 (you'll see this espcially with image processing), however, you'll often find a neural network can perform pretty well with minimal feature scaling."
   ]
  },
  {
   "cell_type": "code",
   "execution_count": 123,
   "metadata": {},
   "outputs": [],
   "source": [
    "insurance = pd.read_csv(\"https://raw.githubusercontent.com/stedy/Machine-Learning-with-R-datasets/master/insurance.csv\")"
   ]
  },
  {
   "cell_type": "code",
   "execution_count": 124,
   "metadata": {},
   "outputs": [
    {
     "data": {
      "text/html": [
       "<div>\n",
       "<style scoped>\n",
       "    .dataframe tbody tr th:only-of-type {\n",
       "        vertical-align: middle;\n",
       "    }\n",
       "\n",
       "    .dataframe tbody tr th {\n",
       "        vertical-align: top;\n",
       "    }\n",
       "\n",
       "    .dataframe thead th {\n",
       "        text-align: right;\n",
       "    }\n",
       "</style>\n",
       "<table border=\"1\" class=\"dataframe\">\n",
       "  <thead>\n",
       "    <tr style=\"text-align: right;\">\n",
       "      <th></th>\n",
       "      <th>age</th>\n",
       "      <th>sex</th>\n",
       "      <th>bmi</th>\n",
       "      <th>children</th>\n",
       "      <th>smoker</th>\n",
       "      <th>region</th>\n",
       "      <th>charges</th>\n",
       "    </tr>\n",
       "  </thead>\n",
       "  <tbody>\n",
       "    <tr>\n",
       "      <th>0</th>\n",
       "      <td>19</td>\n",
       "      <td>female</td>\n",
       "      <td>27.900</td>\n",
       "      <td>0</td>\n",
       "      <td>yes</td>\n",
       "      <td>southwest</td>\n",
       "      <td>16884.92400</td>\n",
       "    </tr>\n",
       "    <tr>\n",
       "      <th>1</th>\n",
       "      <td>18</td>\n",
       "      <td>male</td>\n",
       "      <td>33.770</td>\n",
       "      <td>1</td>\n",
       "      <td>no</td>\n",
       "      <td>southeast</td>\n",
       "      <td>1725.55230</td>\n",
       "    </tr>\n",
       "    <tr>\n",
       "      <th>2</th>\n",
       "      <td>28</td>\n",
       "      <td>male</td>\n",
       "      <td>33.000</td>\n",
       "      <td>3</td>\n",
       "      <td>no</td>\n",
       "      <td>southeast</td>\n",
       "      <td>4449.46200</td>\n",
       "    </tr>\n",
       "    <tr>\n",
       "      <th>3</th>\n",
       "      <td>33</td>\n",
       "      <td>male</td>\n",
       "      <td>22.705</td>\n",
       "      <td>0</td>\n",
       "      <td>no</td>\n",
       "      <td>northwest</td>\n",
       "      <td>21984.47061</td>\n",
       "    </tr>\n",
       "    <tr>\n",
       "      <th>4</th>\n",
       "      <td>32</td>\n",
       "      <td>male</td>\n",
       "      <td>28.880</td>\n",
       "      <td>0</td>\n",
       "      <td>no</td>\n",
       "      <td>northwest</td>\n",
       "      <td>3866.85520</td>\n",
       "    </tr>\n",
       "  </tbody>\n",
       "</table>\n",
       "</div>"
      ],
      "text/plain": [
       "   age     sex     bmi  children smoker     region      charges\n",
       "0   19  female  27.900         0    yes  southwest  16884.92400\n",
       "1   18    male  33.770         1     no  southeast   1725.55230\n",
       "2   28    male  33.000         3     no  southeast   4449.46200\n",
       "3   33    male  22.705         0     no  northwest  21984.47061\n",
       "4   32    male  28.880         0     no  northwest   3866.85520"
      ]
     },
     "execution_count": 124,
     "metadata": {},
     "output_type": "execute_result"
    }
   ],
   "source": [
    "insurance.head()"
   ]
  },
  {
   "cell_type": "code",
   "execution_count": 125,
   "metadata": {},
   "outputs": [],
   "source": [
    "from sklearn.compose import make_column_transformer\n",
    "from sklearn.preprocessing import MinMaxScaler, OneHotEncoder\n",
    "\n",
    "# Create column transformer (this will help us normalize/preprocess our data)\n",
    "ct = make_column_transformer(\n",
    "    (MinMaxScaler(), [\"age\", \"bmi\", \"children\"]), # get all values between 0 and 1\n",
    "    (OneHotEncoder(handle_unknown=\"ignore\"), [\"sex\", \"smoker\", \"region\"])\n",
    ")\n",
    "\n",
    "# Create X & y\n",
    "X = insurance.drop(\"charges\", axis=1)\n",
    "y = insurance[\"charges\"]\n",
    "\n",
    "# Build our train and test sets (use random state to ensure same split as before)\n",
    "X_train, X_test, y_train, y_test = train_test_split(X, y, test_size=0.2, random_state=42)\n",
    "\n",
    "# Fit column transformer on the training data only (doing so on test data would result in data leakage)\n",
    "ct.fit(X_train)\n",
    "\n",
    "# Transform training and test data with normalization (MinMaxScalar) and one hot encoding (OneHotEncoder)\n",
    "X_train_normal = ct.transform(X_train)\n",
    "X_test_normal = ct.transform(X_test)\n",
    "     \n"
   ]
  },
  {
   "cell_type": "code",
   "execution_count": 127,
   "metadata": {},
   "outputs": [
    {
     "data": {
      "text/plain": [
       "age                19\n",
       "sex            female\n",
       "bmi              27.9\n",
       "children            0\n",
       "smoker            yes\n",
       "region      southwest\n",
       "Name: 0, dtype: object"
      ]
     },
     "execution_count": 127,
     "metadata": {},
     "output_type": "execute_result"
    }
   ],
   "source": [
    "X_train.loc[0]"
   ]
  },
  {
   "cell_type": "code",
   "execution_count": 128,
   "metadata": {},
   "outputs": [
    {
     "data": {
      "text/plain": [
       "array([0.60869565, 0.10734463, 0.4       , 1.        , 0.        ,\n",
       "       1.        , 0.        , 0.        , 1.        , 0.        ,\n",
       "       0.        ])"
      ]
     },
     "execution_count": 128,
     "metadata": {},
     "output_type": "execute_result"
    }
   ],
   "source": [
    "X_train_normal[0]"
   ]
  },
  {
   "cell_type": "code",
   "execution_count": 129,
   "metadata": {},
   "outputs": [
    {
     "data": {
      "text/plain": [
       "((1070, 11), (1070, 6))"
      ]
     },
     "execution_count": 129,
     "metadata": {},
     "output_type": "execute_result"
    }
   ],
   "source": [
    "X_train_normal.shape, X_train.shape"
   ]
  },
  {
   "attachments": {},
   "cell_type": "markdown",
   "metadata": {},
   "source": [
    "Our data is normalized and numerical, let's model it.\n",
    "\n",
    "We'll use the same model as **insurance_model_2**."
   ]
  },
  {
   "cell_type": "code",
   "execution_count": 132,
   "metadata": {},
   "outputs": [
    {
     "data": {
      "text/plain": [
       "<keras.callbacks.History at 0x1952192b2d0>"
      ]
     },
     "execution_count": 132,
     "metadata": {},
     "output_type": "execute_result"
    }
   ],
   "source": [
    "tf.random.set_seed(42)\n",
    "\n",
    "# Build the model (3 layers, 100, 10, 1 units)\n",
    "insurance_model_3 = tf.keras.Sequential([\n",
    "    tf.keras.layers.Dense(100),\n",
    "    tf.keras.layers.Dense(10),\n",
    "    tf.keras.layers.Dense(1)\n",
    "])\n",
    "\n",
    "# Compile the model\n",
    "insurance_model_3.compile(loss=tf.keras.losses.mae,\n",
    "                                                    optimizer=tf.keras.optimizers.Adam(),\n",
    "                                                    metrics=['mae'])\n",
    "\n",
    "# Fit the model for 200 epochs (same as insurance_model_2)\n",
    "insurance_model_3.fit(X_train_normal, y_train.values, epochs=200, verbose=0)\n"
   ]
  },
  {
   "cell_type": "code",
   "execution_count": 133,
   "metadata": {},
   "outputs": [
    {
     "name": "stdout",
     "output_type": "stream",
     "text": [
      "9/9 [==============================] - 0s 750us/step - loss: 3166.9229 - mae: 3166.9229\n"
     ]
    }
   ],
   "source": [
    "insurance_model_3_loss, insurance_model_3_mae =insurance_model_3.evaluate(X_test_normal, y_test.values)"
   ]
  },
  {
   "cell_type": "code",
   "execution_count": 134,
   "metadata": {},
   "outputs": [
    {
     "data": {
      "text/plain": [
       "(3497.471435546875, 3166.9228515625)"
      ]
     },
     "execution_count": 134,
     "metadata": {},
     "output_type": "execute_result"
    }
   ],
   "source": [
    "insurance_model_2_mae, insurance_model_3_mae"
   ]
  }
 ],
 "metadata": {
  "kernelspec": {
   "display_name": "Python 3",
   "language": "python",
   "name": "python3"
  },
  "language_info": {
   "codemirror_mode": {
    "name": "ipython",
    "version": 3
   },
   "file_extension": ".py",
   "mimetype": "text/x-python",
   "name": "python",
   "nbconvert_exporter": "python",
   "pygments_lexer": "ipython3",
   "version": "3.11.4"
  },
  "orig_nbformat": 4
 },
 "nbformat": 4,
 "nbformat_minor": 2
}
